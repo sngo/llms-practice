{
  "nbformat": 4,
  "nbformat_minor": 0,
  "metadata": {
    "colab": {
      "provenance": [],
      "authorship_tag": "ABX9TyOE29m59gl3zNkkrRVlx8RV",
      "include_colab_link": true
    },
    "kernelspec": {
      "name": "python3",
      "display_name": "Python 3"
    },
    "language_info": {
      "name": "python"
    }
  },
  "cells": [
    {
      "cell_type": "markdown",
      "metadata": {
        "id": "view-in-github",
        "colab_type": "text"
      },
      "source": [
        "<a href=\"https://colab.research.google.com/github/sngo/llms-practice/blob/main/AirlineAssistant.ipynb\" target=\"_parent\"><img src=\"https://colab.research.google.com/assets/colab-badge.svg\" alt=\"Open In Colab\"/></a>"
      ]
    },
    {
      "cell_type": "code",
      "execution_count": null,
      "metadata": {
        "id": "ybC5mI4kK6wy"
      },
      "outputs": [],
      "source": [
        "!pip install gradio==4.44.1"
      ]
    },
    {
      "cell_type": "code",
      "source": [
        "import os\n",
        "from google.colab import userdata\n",
        "from typing import List\n",
        "from openai import OpenAI\n",
        "import gradio as gr\n",
        "import json"
      ],
      "metadata": {
        "id": "H8UeWq-3LFhO"
      },
      "execution_count": 2,
      "outputs": []
    },
    {
      "cell_type": "code",
      "source": [
        "openai_api_key = userdata.get(\"OPENAI_API_KEY\")\n",
        "openai = OpenAI(api_key=openai_api_key)\n",
        "openai_model = 'gpt-4.1-nano'"
      ],
      "metadata": {
        "id": "PGcxES99LJ1a"
      },
      "execution_count": 3,
      "outputs": []
    },
    {
      "cell_type": "code",
      "source": [
        "system_message = \"You are a helpful assistant for an Airline called FlightAI. \"\n",
        "system_message += \"Give short, courteous answers, no more than 1 sentence. \"\n",
        "system_message += \"Always be accurate. If you don't know the answer, say so.\""
      ],
      "metadata": {
        "id": "OXw6jbPmLWV4"
      },
      "execution_count": 4,
      "outputs": []
    },
    {
      "cell_type": "code",
      "source": [
        "ticket_prices = {\"london\": \"$799\", \"paris\": \"$899\", \"tokyo\": \"$1400\", \"berlin\": \"$499\"}\n",
        "\n",
        "def get_ticket_price(destination_city):\n",
        "    #print(f\"Tool get_ticket_price called for {destination_city}\")\n",
        "    city = destination_city.lower()\n",
        "    return ticket_prices.get(city, \"Unknown\")"
      ],
      "metadata": {
        "id": "cMwnu1vyLljN"
      },
      "execution_count": 5,
      "outputs": []
    },
    {
      "cell_type": "code",
      "source": [
        "get_ticket_price(\"london\")"
      ],
      "metadata": {
        "colab": {
          "base_uri": "https://localhost:8080/",
          "height": 35
        },
        "id": "x3ulNr8ELpnP",
        "outputId": "1e481309-4092-4b54-8f65-a41dd1ff0ed6"
      },
      "execution_count": 6,
      "outputs": [
        {
          "output_type": "execute_result",
          "data": {
            "text/plain": [
              "'$799'"
            ],
            "application/vnd.google.colaboratory.intrinsic+json": {
              "type": "string"
            }
          },
          "metadata": {},
          "execution_count": 6
        }
      ]
    },
    {
      "cell_type": "markdown",
      "source": [
        "Here is definition of type:function in OpenAI api:\n",
        "\n",
        "\n",
        "\n",
        "```\n",
        "{\n",
        "  \"type\": \"function\",\n",
        "  \"function\": {\n",
        "    \"name\": \"function_name\",\n",
        "    \"description\": \"function_description\",\n",
        "    \"parameters\": {\n",
        "      \"type\": \"object\",\n",
        "      \"properties\": {\n",
        "        \"parameter_name\": {\n",
        "          \"type\": \"parameter_type\",\n",
        "          \"description\": \"parameter_description\"\n",
        "        }\n",
        "      },\n",
        "      \"required\": [\"required_parameters\"],\n",
        "    }\n",
        "  }\n",
        "}\n",
        "```\n",
        "\n"
      ],
      "metadata": {
        "id": "UAAdUP6-MeHv"
      }
    },
    {
      "cell_type": "code",
      "source": [
        "price_function = {\n",
        "    \"name\": \"get_ticket_price\",\n",
        "    \"description\": \"Get the price of a return ticket to the destination city. Call this whenever you need to know the ticket price, for example when a customer asks 'How much is a ticket to this city'\",\n",
        "    \"parameters\": {\n",
        "        \"type\": \"object\",\n",
        "        \"properties\": {\n",
        "            \"destination_city\": {\n",
        "                \"type\": \"string\",\n",
        "                \"description\": \"The city that the customer wants to travel to\",\n",
        "            },\n",
        "        },\n",
        "        \"required\": [\"destination_city\"],\n",
        "        \"additionalProperties\": False\n",
        "    }\n",
        "}"
      ],
      "metadata": {
        "id": "DEGJBBVTLshy"
      },
      "execution_count": 7,
      "outputs": []
    },
    {
      "cell_type": "code",
      "source": [
        "tools = [{\"type\": \"function\", \"function\": price_function}]"
      ],
      "metadata": {
        "id": "XFbtE44kL59D"
      },
      "execution_count": 8,
      "outputs": []
    },
    {
      "cell_type": "code",
      "source": [
        "def chat(message, history):\n",
        "    messages = [{\"role\": \"system\", \"content\": system_message}] + history + [{\"role\": \"user\", \"content\": message}]\n",
        "    response = openai.chat.completions.create(model=openai_model, messages=messages, tools=tools)\n",
        "\n",
        "    if response.choices[0].finish_reason==\"tool_calls\":\n",
        "        message = response.choices[0].message\n",
        "        response, city = handle_tool_call(message)\n",
        "        messages.append(message)\n",
        "        messages.append(response)\n",
        "        response = openai.chat.completions.create(model=openai_model, messages=messages)\n",
        "\n",
        "    return response.choices[0].message.content"
      ],
      "metadata": {
        "id": "8ftgR6XAL_w3"
      },
      "execution_count": 9,
      "outputs": []
    },
    {
      "cell_type": "code",
      "source": [
        "def handle_tool_call(message):\n",
        "    print(f\"Handle tool call message: {message}\")\n",
        "    tool_call = message.tool_calls[0]\n",
        "    arguments = json.loads(tool_call.function.arguments)\n",
        "    city = arguments.get('destination_city')\n",
        "    price = get_ticket_price(city)\n",
        "    response = {\n",
        "        \"role\": \"tool\",\n",
        "        \"content\": json.dumps({\"destination_city\": city,\"price\": price}),\n",
        "        \"tool_call_id\": tool_call.id\n",
        "    }\n",
        "    return response, city"
      ],
      "metadata": {
        "id": "7UlIPWTsNfyE"
      },
      "execution_count": 10,
      "outputs": []
    },
    {
      "cell_type": "code",
      "source": [
        "gr.ChatInterface(fn=chat, type=\"messages\").launch(share=True, debug=True)"
      ],
      "metadata": {
        "id": "FCbYCeB8Nm2G"
      },
      "execution_count": null,
      "outputs": []
    },
    {
      "cell_type": "code",
      "source": [
        "#Generate Image\n",
        "import base64\n",
        "from io import BytesIO\n",
        "from PIL import Image\n",
        "from IPython.display import Audio, display"
      ],
      "metadata": {
        "id": "X6XVeMv4OGg_"
      },
      "execution_count": 12,
      "outputs": []
    },
    {
      "cell_type": "code",
      "source": [
        "def artist(city):\n",
        "    image_response = openai.images.generate(\n",
        "            model=\"dall-e-3\",\n",
        "            prompt=f\"An image representing a vacation in {city}, showing tourist spots and everything unique about {city}, in a vibrant pop-art style\",\n",
        "            size=\"1024x1024\",\n",
        "            n=1,\n",
        "            response_format=\"b64_json\",\n",
        "        )\n",
        "    image_base64 = image_response.data[0].b64_json\n",
        "    image_data = base64.b64decode(image_base64)\n",
        "    return Image.open(BytesIO(image_data))"
      ],
      "metadata": {
        "id": "8vqOLhK6egGx"
      },
      "execution_count": 13,
      "outputs": []
    },
    {
      "cell_type": "code",
      "source": [
        "image = artist(\"New York City\")\n",
        "display(image)"
      ],
      "metadata": {
        "id": "hDZTlKN5elrv"
      },
      "execution_count": null,
      "outputs": []
    },
    {
      "cell_type": "code",
      "source": [
        "def talker(message):\n",
        "    response = openai.audio.speech.create(\n",
        "        model=\"tts-1\",\n",
        "        voice=\"fable\",  #alloy, echo, fable, nova, onyx\n",
        "        input=message)\n",
        "\n",
        "    audio_stream = BytesIO(response.content)\n",
        "    output_filename = \"output_audio.mp3\"\n",
        "    with open(output_filename, \"wb\") as f:\n",
        "        f.write(audio_stream.read())\n",
        "\n",
        "    # Play the generated audio\n",
        "    display(Audio(output_filename, autoplay=True))\n",
        "\n"
      ],
      "metadata": {
        "id": "-rq2konGe62p"
      },
      "execution_count": 14,
      "outputs": []
    },
    {
      "cell_type": "code",
      "source": [
        "talker(\"Well, hi there\")"
      ],
      "metadata": {
        "id": "YXy5IRLMgJGW"
      },
      "execution_count": null,
      "outputs": []
    },
    {
      "cell_type": "code",
      "source": [
        "#Agentic AI: an umbrella term that refer to such as multiple steps, use Tools, Agent Environment which allows Agents to collaborate, planner, divide tasks, etc.\n",
        "def chat(history):\n",
        "    messages = [{\"role\": \"system\", \"content\": system_message}] + history\n",
        "    response = openai.chat.completions.create(model=MODEL, messages=messages, tools=tools)\n",
        "    image = None\n",
        "\n",
        "    if response.choices[0].finish_reason==\"tool_calls\":\n",
        "        message = response.choices[0].message\n",
        "        response, city = handle_tool_call(message)\n",
        "        messages.append(message)\n",
        "        messages.append(response)\n",
        "        image = artist(city)\n",
        "        response = openai.chat.completions.create(model=openai_model, messages=messages)\n",
        "\n",
        "    reply = response.choices[0].message.content\n",
        "    history += [{\"role\":\"assistant\", \"content\":reply}]\n",
        "\n",
        "    # Comment out or delete the next line if you'd rather skip Audio for now..\n",
        "    talker(reply)\n",
        "\n",
        "    return history, image"
      ],
      "metadata": {
        "id": "jfF7WisGgLc9"
      },
      "execution_count": 16,
      "outputs": []
    },
    {
      "cell_type": "code",
      "source": [
        "with gr.Blocks() as ui:\n",
        "    with gr.Row():\n",
        "        chatbot = gr.Chatbot(height=500, type=\"messages\")\n",
        "        image_output = gr.Image(height=500)\n",
        "    with gr.Row():\n",
        "        entry = gr.Textbox(label=\"Chat with our AI Assistant:\")\n",
        "    with gr.Row():\n",
        "        clear = gr.Button(\"Clear\")\n",
        "\n",
        "    def do_entry(message, history):\n",
        "        history += [{\"role\":\"user\", \"content\":message}]\n",
        "        return \"\", history\n",
        "\n",
        "    entry.submit(do_entry, inputs=[entry, chatbot], outputs=[entry, chatbot]).then(\n",
        "        chat, inputs=chatbot, outputs=[chatbot, image_output]\n",
        "    )\n",
        "    clear.click(lambda: None, inputs=None, outputs=chatbot, queue=False)\n",
        "\n",
        "ui.launch(inbrowser=True)"
      ],
      "metadata": {
        "id": "VvPI4Se8hXHK"
      },
      "execution_count": null,
      "outputs": []
    },
    {
      "cell_type": "code",
      "source": [],
      "metadata": {
        "id": "pHGQRNEqx3tF"
      },
      "execution_count": null,
      "outputs": []
    }
  ]
}