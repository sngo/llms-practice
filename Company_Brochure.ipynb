{
  "nbformat": 4,
  "nbformat_minor": 0,
  "metadata": {
    "colab": {
      "provenance": [],
      "authorship_tag": "ABX9TyMTs9VpwPT9RL2oKUpKGDvH",
      "include_colab_link": true
    },
    "kernelspec": {
      "name": "python3",
      "display_name": "Python 3"
    },
    "language_info": {
      "name": "python"
    }
  },
  "cells": [
    {
      "cell_type": "markdown",
      "metadata": {
        "id": "view-in-github",
        "colab_type": "text"
      },
      "source": [
        "<a href=\"https://colab.research.google.com/github/sngo/llms-practice/blob/main/Company_Brochure.ipynb\" target=\"_parent\"><img src=\"https://colab.research.google.com/assets/colab-badge.svg\" alt=\"Open In Colab\"/></a>"
      ]
    },
    {
      "cell_type": "code",
      "execution_count": 4,
      "metadata": {
        "id": "TQry2__abkAB"
      },
      "outputs": [],
      "source": [
        "import os\n",
        "import requests\n",
        "import json\n",
        "from typing import List\n",
        "from bs4 import BeautifulSoup\n",
        "from IPython.display import Markdown, display, update_display\n",
        "from openai import OpenAI\n",
        "from google.colab import userdata"
      ]
    },
    {
      "cell_type": "code",
      "source": [
        "api_key = userdata.get('OPENAI_API_KEY')"
      ],
      "metadata": {
        "id": "xD2ll_i7hitu"
      },
      "execution_count": 5,
      "outputs": []
    },
    {
      "cell_type": "code",
      "source": [
        "if api_key and api_key.startswith('sk-proj-') and len(api_key) >= 10:\n",
        "  print(\"API key is good\")\n",
        "else:\n",
        "  print(\"There might be a problem with your API key? Please visit the troubleshooting notebook!\")\n",
        "\n",
        "MODEL = 'gpt-4o-mini'\n",
        "openai = OpenAI(api_key=api_key)"
      ],
      "metadata": {
        "colab": {
          "base_uri": "https://localhost:8080/"
        },
        "id": "F0HVmM2afct3",
        "outputId": "5665e021-0a34-414f-c542-0661e62dbf6d"
      },
      "execution_count": 6,
      "outputs": [
        {
          "output_type": "stream",
          "name": "stdout",
          "text": [
            "API key is good\n"
          ]
        }
      ]
    },
    {
      "cell_type": "code",
      "source": [
        "headers = {\n",
        " \"User-Agent\": \"Mozilla/5.0 (Windows NT 10.0; Win64; x64) AppleWebKit/537.36 (KHTML, like Gecko) Chrome/117.0.0.0 Safari/537.36\"\n",
        "}\n",
        "\n",
        "class Website:\n",
        "    \"\"\"\n",
        "      website object\n",
        "    \"\"\"\n",
        "    def __init__(self, url):\n",
        "        self.url = url\n",
        "        response = requests.get(url, headers=headers)\n",
        "        self.body = response.content\n",
        "        soup = BeautifulSoup(self.body, 'html.parser')\n",
        "        self.title = soup.title.string if soup.title else \"No title found\"\n",
        "        if soup.body:\n",
        "            for irrelevant in soup.body([\"script\", \"style\", \"img\", \"input\"]):\n",
        "                irrelevant.decompose()\n",
        "            self.text = soup.body.get_text(separator=\"\\n\", strip=True)\n",
        "        else:\n",
        "            self.text = \"\"\n",
        "        links = [link.get('href') for link in soup.find_all('a')]\n",
        "        self.links = [link for link in links if link]\n",
        "\n",
        "    def get_contents(self):\n",
        "        return f\"Webpage Title:\\n{self.title}\\nWebpage Contents:\\n{self.text}\\n\\n\"\n"
      ],
      "metadata": {
        "id": "WX80exUQhMp9"
      },
      "execution_count": 7,
      "outputs": []
    },
    {
      "cell_type": "code",
      "source": [
        "ed = Website(\"https://edwarddonner.com\")\n",
        "ed.links"
      ],
      "metadata": {
        "id": "I6sR9iFiiDIy"
      },
      "execution_count": null,
      "outputs": []
    },
    {
      "cell_type": "code",
      "source": [
        "link_system_prompt = \"You are provided with a list of links found on a webpage. \\\n",
        "You are able to decide which of the links would be most relevant to include in a brochure about the company, \\\n",
        "such as links to an About page, or a Company page, or Careers/Jobs pages.\\n\"\n",
        "link_system_prompt += \"You should respond in JSON as in this example:\"\n",
        "link_system_prompt += \"\"\"\n",
        "{\n",
        "    \"links\": [\n",
        "        {\"type\": \"about page\", \"url\": \"https://full.url/goes/here/about\"},\n",
        "        {\"type\": \"careers page\": \"url\": \"https://another.full.url/careers\"}\n",
        "    ]\n",
        "}\n",
        "\"\"\""
      ],
      "metadata": {
        "id": "HoYGZamjiE2W"
      },
      "execution_count": 9,
      "outputs": []
    },
    {
      "cell_type": "code",
      "source": [
        "link_system_prompt"
      ],
      "metadata": {
        "id": "nQuspRsEi4fh"
      },
      "execution_count": null,
      "outputs": []
    },
    {
      "cell_type": "code",
      "source": [
        "def get_links_user_prompt(website):\n",
        "    user_prompt = f\"Here is the list of links on the website of {website.url} - \"\n",
        "    user_prompt += \"please decide which of these are relevant web links for a brochure about the company, respond with the full https URL in JSON format. \\\n",
        "Do not include Terms of Service, Privacy, email links.\\n\"\n",
        "    user_prompt += \"Links (some might be relative links):\\n\"\n",
        "    user_prompt += \"\\n\".join(website.links)\n",
        "    return user_prompt"
      ],
      "metadata": {
        "id": "77YEHg0qi63e"
      },
      "execution_count": 11,
      "outputs": []
    },
    {
      "cell_type": "code",
      "source": [
        "get_links_user_prompt(ed)"
      ],
      "metadata": {
        "id": "femfKUd7jTGp"
      },
      "execution_count": null,
      "outputs": []
    },
    {
      "cell_type": "code",
      "source": [
        "def get_links(url):\n",
        "    website = Website(url)\n",
        "    response = openai.chat.completions.create(\n",
        "        model=MODEL,\n",
        "        messages=[\n",
        "            {\"role\": \"system\", \"content\": link_system_prompt},\n",
        "            {\"role\": \"user\", \"content\": get_links_user_prompt(website)}\n",
        "      ],\n",
        "        response_format={\"type\": \"json_object\"}\n",
        "    )\n",
        "    result = response.choices[0].message.content\n",
        "    return json.loads(result)"
      ],
      "metadata": {
        "id": "5iJGM_7yjXS2"
      },
      "execution_count": 13,
      "outputs": []
    },
    {
      "cell_type": "code",
      "source": [
        "hugginface = Website(\"https://huggingface.co\")\n",
        "hugginface.links"
      ],
      "metadata": {
        "id": "vXrRb8iOj0Fp"
      },
      "execution_count": null,
      "outputs": []
    },
    {
      "cell_type": "code",
      "source": [
        "get_links(hugginface.url)"
      ],
      "metadata": {
        "colab": {
          "base_uri": "https://localhost:8080/"
        },
        "id": "f1kC_gUSkD8t",
        "outputId": "1fb700fa-7a07-4bbc-8c79-f684281daff0"
      },
      "execution_count": 15,
      "outputs": [
        {
          "output_type": "execute_result",
          "data": {
            "text/plain": [
              "{'links': [{'type': 'about page', 'url': 'https://huggingface.co/huggingface'},\n",
              "  {'type': 'careers page', 'url': 'https://apply.workable.com/huggingface/'},\n",
              "  {'type': 'enterprise page', 'url': 'https://huggingface.co/enterprise'},\n",
              "  {'type': 'models page', 'url': 'https://huggingface.co/models'},\n",
              "  {'type': 'datasets page', 'url': 'https://huggingface.co/datasets'},\n",
              "  {'type': 'spaces page', 'url': 'https://huggingface.co/spaces'},\n",
              "  {'type': 'blog page', 'url': 'https://huggingface.co/blog'},\n",
              "  {'type': 'documentation page', 'url': 'https://huggingface.co/docs'}]}"
            ]
          },
          "metadata": {},
          "execution_count": 15
        }
      ]
    },
    {
      "cell_type": "code",
      "source": [
        "def get_all_details(url):\n",
        "    result = \"Landing page:\\n\"\n",
        "    result += Website(url).get_contents()\n",
        "    links = get_links(url)\n",
        "    #print(\"Found links:\", links)\n",
        "    for link in links[\"links\"]:\n",
        "        result += f\"\\n\\n{link['type']}\\n\"\n",
        "        result += Website(link[\"url\"]).get_contents()\n",
        "    return result"
      ],
      "metadata": {
        "id": "qFk8Z0y2kejC"
      },
      "execution_count": 16,
      "outputs": []
    },
    {
      "cell_type": "code",
      "source": [
        "#print(get_all_details(\"https://huggingface.co\"))"
      ],
      "metadata": {
        "id": "TS_NKxnTk6AN"
      },
      "execution_count": 17,
      "outputs": []
    },
    {
      "cell_type": "code",
      "source": [
        "system_prompt = \"You are an assistant tasked with analyzing multiple relevant pages from a company’s website to create a concise and engaging brochure for prospective customers, investors, and job seekers. Your response should be in markdown format.\\n\"\n",
        "\n",
        "system_prompt += \"If available, include information about:\\n\"\n",
        "\n",
        "system_prompt += \"The company’s mission, values, and culture\\n\"\n",
        "\n",
        "system_prompt += \"Key customers, industries served, or notable partnerships\\n\"\n",
        "\n",
        "system_prompt += \"Career opportunities, work environment, or hiring approach\\n\"\n",
        "\n",
        "system_prompt += \"Generate two separate brochures—one in English and one in Spanish—using the following format:\\n\"\n",
        "system_prompt += \"English:\\n\"\n",
        "\n",
        "system_prompt += \"[Insert English brochure content here]\\n\"\n",
        "\n",
        "system_prompt += \"===============================\\n\"\n",
        "\n",
        "system_prompt += \"Spanish:\\n\"\n",
        "\n",
        "system_prompt += \"[Insert Spanish brochure content here]\\n\"\n",
        "\n",
        "# Or uncomment the lines below for a more humorous brochure - this demonstrates how easy it is to incorporate 'tone':\n",
        "\n",
        "# system_prompt = \"You are an assistant that analyzes the contents of several relevant pages from a company website \\\n",
        "# and creates a short humorous, entertaining, jokey brochure about the company for prospective customers, investors and recruits. Respond in markdown.\\\n",
        "# Include details of company culture, customers and careers/jobs if you have the information.\"\n"
      ],
      "metadata": {
        "id": "33VEe7c0lCy2"
      },
      "execution_count": 18,
      "outputs": []
    },
    {
      "cell_type": "code",
      "source": [
        "print(system_prompt)"
      ],
      "metadata": {
        "colab": {
          "base_uri": "https://localhost:8080/"
        },
        "id": "NPUkbPAPnPNg",
        "outputId": "b0f29e26-e5ac-4283-fdaf-dd565563bd7c"
      },
      "execution_count": 19,
      "outputs": [
        {
          "output_type": "stream",
          "name": "stdout",
          "text": [
            "You are an assistant tasked with analyzing multiple relevant pages from a company’s website to create a concise and engaging brochure for prospective customers, investors, and job seekers. Your response should be in markdown format.\n",
            "If available, include information about:\n",
            "The company’s mission, values, and culture\n",
            "Key customers, industries served, or notable partnerships\n",
            "Career opportunities, work environment, or hiring approach\n",
            "Generate two separate brochures—one in English and one in Spanish—using the following format:\n",
            "English:\n",
            "[Insert English brochure content here]\n",
            "===============================\n",
            "Spanish:\n",
            "[Insert Spanish brochure content here]\n",
            "\n"
          ]
        }
      ]
    },
    {
      "cell_type": "code",
      "source": [
        "def get_brochure_user_prompt(company_name, url):\n",
        "    user_prompt = f\"You are looking at a company called: {company_name}\\n\"\n",
        "    user_prompt += f\"Here are the contents of its landing page and other relevant pages; use this information to build a short brochure of the company in markdown.\\n\"\n",
        "    user_prompt += get_all_details(url)\n",
        "    user_prompt = user_prompt[:5_000] # Truncate if more than 5,000 characters\n",
        "    return user_prompt"
      ],
      "metadata": {
        "id": "c7479mu4l184"
      },
      "execution_count": 20,
      "outputs": []
    },
    {
      "cell_type": "code",
      "source": [
        "def create_brochure(company_name, url):\n",
        "    response = openai.chat.completions.create(\n",
        "        model=MODEL,\n",
        "        messages=[\n",
        "            {\"role\": \"system\", \"content\": system_prompt},\n",
        "            {\"role\": \"user\", \"content\": get_brochure_user_prompt(company_name, url)}\n",
        "          ],\n",
        "    )\n",
        "    result = response.choices[0].message.content\n",
        "    display(Markdown(result))"
      ],
      "metadata": {
        "id": "g7Mrb9MmmCLB"
      },
      "execution_count": 21,
      "outputs": []
    },
    {
      "cell_type": "code",
      "source": [
        "create_brochure(\"HuggingFace\", \"https://huggingface.co\")"
      ],
      "metadata": {
        "id": "TZ9jxa5kl3Yj"
      },
      "execution_count": null,
      "outputs": []
    },
    {
      "cell_type": "code",
      "source": [
        "def stream_brochure(company_name, url):\n",
        "    stream = openai.chat.completions.create(\n",
        "        model=MODEL,\n",
        "        messages=[\n",
        "            {\"role\": \"system\", \"content\": system_prompt},\n",
        "            {\"role\": \"user\", \"content\": get_brochure_user_prompt(company_name, url)}\n",
        "          ],\n",
        "        stream=True\n",
        "    )\n",
        "\n",
        "    response = \"\"\n",
        "    display_handle = display(Markdown(\"\"), display_id=True)\n",
        "    for chunk in stream:\n",
        "        response += chunk.choices[0].delta.content or ''\n",
        "        response = response.replace(\"```\",\"\").replace(\"markdown\", \"\")\n",
        "        update_display(Markdown(response), display_id=display_handle.display_id)"
      ],
      "metadata": {
        "id": "A9Eu27u9l7m2"
      },
      "execution_count": 23,
      "outputs": []
    },
    {
      "cell_type": "code",
      "source": [
        "stream_brochure(\"HuggingFace\", \"https://huggingface.co\")"
      ],
      "metadata": {
        "colab": {
          "base_uri": "https://localhost:8080/",
          "height": 1000
        },
        "id": "Ws4xA8mYmjIo",
        "outputId": "79b6cf7e-2cdb-4234-f3ba-40b42cc90daa"
      },
      "execution_count": 24,
      "outputs": [
        {
          "output_type": "display_data",
          "data": {
            "text/plain": [
              "<IPython.core.display.Markdown object>"
            ],
            "text/markdown": "\n# Hugging Face Brochure\n\n## English:\n### Welcome to Hugging Face!\nAt Hugging Face, our mission is to foster collaboration in the AI and machine learning community to build innovative technologies that will shape the future. We envision a world where everyone can contribute to advancing AI in a responsible and sustainable way.\n\n### Our Values\n- **Openness**: We believe in open-source collaboration to democratize AI.\n- **Community**: Our platform is built by and for the community, encouraging collective growth.\n- **Innovation**: We drive creativity by enabling real-time collaboration on models, datasets, and applications.\n\n### Who We Serve\nMore than 50,000 organizations leverage Hugging Face, including:\n- **AI at Meta**\n- **Amazon**\n- **Google**\n- **Microsoft**\n- **Grammarly**\n\nWe serve diverse industries including technology, finance, healthcare, and education, providing powerful tools to accelerate their AI initiatives.\n\n### Career Opportunities\nJoin a dynamic team that prioritizes a collaborative and inclusive work culture. We offer a variety of career opportunities across different departments in a fast-paced environment that values creativity and innovation.\n\n### Work Environment\nOur team thrives on innovation, collaboration, and mutual respect. We embrace diversity and encourage individuals from all backgrounds to contribute their unique perspectives.\n\n### Hiring Approach\nWe seek talented individuals who are passionate about AI and machine learning. If you are ready to help us build the future, explore our open positions today!\n\n---\n\n## Spanish:\n### ¡Bienvenido a Hugging Face!\nEn Hugging Face, nuestra misión es fomentar la colaboración en la comunidad de IA y aprendizaje automático para construir tecnologías innovadoras que darán forma al futuro. Imaginamos un mundo donde todos pueden contribuir a avanzar en la IA de manera responsable y sostenible.\n\n### Nuestros Valores\n- **Apertura**: Creemos en la colaboración de código abierto para democratizar la IA.\n- **Comunidad**: Nuestra plataforma está construida por y para la comunidad, fomentando el crecimiento colectivo.\n- **Innovación**: Impulsamos la creatividad al habilitar la colaboración en tiempo real sobre modelos, conjuntos de datos y aplicaciones.\n\n### A Quiénes Servimos\nMás de 50,000 organizaciones aprovechan Hugging Face, incluidos:\n- **IA en Meta**\n- **Amazon**\n- **Google**\n- **Microsoft**\n- **Grammarly**\n\nServimos a diversas industrias, incluidas tecnología, finanzas, salud y educación, proporcionando potentes herramientas para acelerar sus iniciativas de IA.\n\n### Oportunidades Laborales\nÚnete a un equipo dinámico que prioriza una cultura de trabajo colaborativa e inclusiva. Ofrecemos una variedad de oportunidades laborales en diferentes departamentos en un entorno acelerado que valora la creatividad y la innovación.\n\n### Ambiente Laboral\nNuestro equipo prospera en innovación, colaboración y respeto mutuo. Abrazamos la diversidad y alentamos a individuos de todos los orígenes a contribuir con sus perspectivas únicas.\n\n### Enfoque de Contratación\nBuscamos individuos talentosos que sean apasionados por la IA y el aprendizaje automático. Si estás listo para ayudarnos a construir el futuro, ¡explora nuestras posiciones abiertas hoy!\n\n"
          },
          "metadata": {}
        }
      ]
    },
    {
      "cell_type": "code",
      "source": [
        "#stream_brochure(\"CNN\", \"https://www.cnn.com/\")"
      ],
      "metadata": {
        "collapsed": true,
        "id": "t6eyW6olmnay"
      },
      "execution_count": 25,
      "outputs": []
    },
    {
      "cell_type": "code",
      "source": [
        "stream_brochure(\"Wellsfargo\", \"https://www.wellsfargo.com/\")"
      ],
      "metadata": {
        "colab": {
          "base_uri": "https://localhost:8080/",
          "height": 1000
        },
        "id": "pZI1Wpjhns5R",
        "outputId": "eab87a08-323e-4201-fde2-cda9cebdebe2"
      },
      "execution_count": 26,
      "outputs": [
        {
          "output_type": "display_data",
          "data": {
            "text/plain": [
              "<IPython.core.display.Markdown object>"
            ],
            "text/markdown": "\n# English Brochure: Wells Fargo\n\n## Our Mission\nAt Wells Fargo, our mission is to satisfy our customers' financial needs and help them succeed financially. We aim to provide a range of banking, investment, mortgage, and insurance products that enable customers to achieve their financial goals.\n\n## Our Values and Culture\nWells Fargo is built on a foundation of integrity, responsibility, and transparency. We value:\n- **Diversity**: A commitment to creating an inclusive environment.\n- **Customer Focus**: Placing customers at the heart of everything we do.\n- **Innovation**: Encouraging creativity to solve clients' financial challenges.\n\n## Key Customers and Industries\nWe proudly serve:\n- Individuals and Families\n- Small Businesses\n- Large Corporations\n- Government Entities\n\nWells Fargo’s extensive network of services includes personal banking, commercial banking, corporate and investment banking, insurance, and wealth management.\n\n## Notable Partnerships\nWells Fargo has established partnerships with various organizations to enhance customer experiences, including collaboration with tech companies for improved digital banking solutions.\n\n## Career Opportunities and Work Environment\nJoin our dynamic team at Wells Fargo! We offer:\n- **Career Growth**: Opportunities for advancement through training and development.\n- **Inclusive Workplace**: A supportive environment that encourages collaboration and creativity.\n- **Comprehensive Benefits**: Competitive salaries and extensive benefits packages.\n\nWe are looking for individuals who are passionate about providing exceptional service and are eager to contribute to our mission.\n\n## Contact Us\nExplore more about our services and career opportunities at [Wells Fargo Careers](https://www.wellsfargo.com/careers).\n\n===============================\n\n# Spanish Brochure: Wells Fargo\n\n## Nuestra Misión\nEn Wells Fargo, nuestra misión es satisfacer las necesidades financieras de nuestros clientes y ayudarles a tener éxito financieramente. Nuestro objetivo es proporcionar una variedad de productos de banca, inversión, hipotekas y seguros que permitan a los clientes alcanzar sus objetivos financieros.\n\n## Nuestros Valores y Cultura\nWells Fargo se basa en una fundación de integridad, responsabilidad y transparencia. Valoramos:\n- **Diversidad**: Un compromiso con la creación de un entorno inclusivo.\n- **Enfoque en el Cliente**: Colocar a los clientes en el corazón de todo lo que hacemos.\n- **Innovación**: Fomentar la creatividad para resolver los desafíos financieros de los clientes.\n\n## Clientes Clave e Industrias\nNos enorgullece servir a:\n- Individuos y Familias\n- Pequeñas Empresas\n- Grandes Corporaciones\n- Entidades Gubernamentales\n\nLa extensa red de servicios de Wells Fargo incluye banca personal, banca comercial, banca corporativa e inversión, seguros y gestión de patrimonio.\n\n## Asociaciones Notables\nWells Fargo ha establecido asociaciones con varias organizaciones para mejorar las experiencias de los clientes, incluyendo colaboración con empresas tecnológicas para mejorar las soluciones de banca digital.\n\n## Oportunidades de Carrera y Ambiente Laboral\n¡Únete a nuestro equipo dinámico en Wells Fargo! Ofrecemos:\n- **Crecimiento Profesional**: Oportunidades de avance a través de capacitación y desarrollo.\n- **Lugar de Trabajo Inclusivo**: Un entorno de apoyo que fomenta la colaboración y la creatividad.\n- **Beneficios Integrales**: Salarios competitivos y paquetes de beneficios extensos.\n\nBuscamos personas apasionadas por ofrecer un servicio excepcional y que estén listas para contribuir a nuestra misión.\n\n## Contáctanos\nExplora más sobre nuestros servicios y oportunidades profesionales en [Wells Fargo Carreras](https://www.wellsfargo.com/careers).\n"
          },
          "metadata": {}
        }
      ]
    },
    {
      "cell_type": "code",
      "source": [
        "stream_brochure(\"Toppan Merril\", \"https://www.toppanmerrill.com/\")"
      ],
      "metadata": {
        "colab": {
          "base_uri": "https://localhost:8080/",
          "height": 1000
        },
        "id": "K7REMS59oIOW",
        "outputId": "56b03745-59d2-425a-972f-684cce34fc5a"
      },
      "execution_count": 27,
      "outputs": [
        {
          "output_type": "display_data",
          "data": {
            "text/plain": [
              "<IPython.core.display.Markdown object>"
            ],
            "text/markdown": "\n# Toppan Merrill Brochure\n\n## Mission, Vision, and Values\nAt Toppan Merrill, our mission is to **simplify the complexity of regulatory disclosure and compliant communications**. We empower our clients with innovative technology and expert solutions that drive efficiency and ensure compliance in financial reporting and corporate communications. Our values center around **integrity, innovation, and client-centricity**, fostering a culture that advocates for transparency and excellence in the industry.\n\n## Our Solutions\nToppan Merrill provides a broad range of solutions tailored to the financial services sector, including:\n\n- **Capital Markets**: IPO, M&A, SPAC transactions\n- **Corporate Compliance**: EDGAR filings, iXBRL disclosures, SOX compliance\n- **Financial Services**: Regulatory disclosure, marketing communications\n- **Health Plans Member Communications**: Optimized document management\n\n### Key Technologies\nOur platforms include:\n- **Bridge**: Streamlined EDGAR & iXBRL filing.\n- **SEC Connect**: Efficient management of various SEC forms.\n- **SOX Automation**: Comprehensive program management.\n- **Control Center**: Enhanced content lifecycle management.\n\n## Key Customers and Industries Served\nFor over 50 years, Toppan Merrill has partnered with **industry leaders** in capital markets, finance, and healthcare. Our commitment extends to corporations navigating the intricacies of regulatory compliance and effective communication to their stakeholders.\n\n## Career Opportunities\nWe believe our employees are vital to our success. Toppan Merrill seeks passionate, innovative, and talented individuals to join our team. Our hiring approach emphasizes:\n\n- **Diversity and Inclusion**: We celebrate varied backgrounds and perspectives.\n- **Professional Growth**: We provide resources for ongoing learning and development.\n- **Collaborative Environment**: Our team culture promotes collaboration and support.\n\nExplore exciting career opportunities at Toppan Merrill and be part of a dynamic team dedicated to advancing business and expanding possibilities.\n\n## Get in Touch\nTransform your regulatory compliance and communication needs with Toppan Merrill. **Contact us** today to discover how we can help streamline your processes and enhance your engagements.\n\n---\n\n# Toppan Merrill Folleto\n\n## Misión, Visión y Valores\nEn Toppan Merrill, nuestra misión es **simplificar la complejidad de la divulgación regulatoria y las comunicaciones conformes**. Empoderamos a nuestros clientes con tecnología innovadora y soluciones expertas que impulsan la eficiencia y garantizan el cumplimiento en la presentación de informes financieros y comunicaciones corporativas. Nuestros valores se centran en **integridad, innovación y enfoque en el cliente**, fomentando una cultura que aboga por la transparencia y la excelencia en la industria.\n\n## Nuestras Soluciones\nToppan Merrill ofrece una amplia gama de soluciones adaptadas al sector de servicios financieros, incluyendo:\n\n- **Mercados de Capital**: Ofertas públicas iniciales, fusiones y adquisiciones, transacciones SPAC\n- **Cumplimiento Corporativo**: Presentaciones EDGAR, divulgaciones iXBRL, cumplimiento de SOX\n- **Servicios Financieros**: Divulgación regulatoria, comunicaciones de marketing\n- **Comunicaciones para Miembros de Planes de Salud**: Gestión óptima de documentos\n\n### Tecnologías Clave\nNuestras plataformas incluyen:\n- **Bridge**: Presentación simplificada de EDGAR e iXBRL.\n- **SEC Connect**: Gestión eficiente de varios formularios de la SEC.\n- **Automatización SOX**: Gestión integral del programa.\n- **Centro de Control**: Gestión mejorada del ciclo de vida del contenido.\n\n## Principales Clientes e Industrias Servidas\nDurante más de 50 años, Toppan Merrill ha colaborado con **líderes de la industria** en mercados de capital, finanzas y atención médica. Nuestro compromiso se extiende a las corporaciones que navegan por las complejidades del cumplimiento regulatorio y la comunicación efectiva con sus partes interesadas.\n\n## Oportunidades de Carrera\nCreemos que nuestros empleados son vitales para nuestro éxito. Toppan Merrill busca personas apasionadas, innovadoras y talentosas para unirse a nuestro equipo. Nuestro enfoque de contratación enfatiza:\n\n- **Diversidad e Inclusión**: Celebramos diversos orígenes y perspectivas.\n- **Crecimiento Profesional**: Proporcionamos recursos para el aprendizaje y desarrollo continuos.\n- **Entorno Colaborativo**: Nuestra cultura de equipo promueve la colaboración y el apoyo.\n\nExplora emocionantes oportunidades de carrera en Toppan Merrill y sé parte de un equipo dinámico dedicado a avanzar en los negocios y expandir posibilidades.\n\n## Contáctanos\nTransforma tus necesidades de cumplimiento regulatorio y comunicación con Toppan Merrill. **Contáctanos** hoy para descubrir cómo podemos ayudar a simplificar tus procesos y mejorar tus interacciones.\n"
          },
          "metadata": {}
        }
      ]
    },
    {
      "cell_type": "code",
      "source": [],
      "metadata": {
        "id": "964VtL-qoijn"
      },
      "execution_count": 27,
      "outputs": []
    }
  ]
}