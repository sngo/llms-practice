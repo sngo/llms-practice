{
  "nbformat": 4,
  "nbformat_minor": 0,
  "metadata": {
    "colab": {
      "provenance": [],
      "authorship_tag": "ABX9TyM8eoEGhq7OaSkvRqniJSlE",
      "include_colab_link": true
    },
    "kernelspec": {
      "name": "python3",
      "display_name": "Python 3"
    },
    "language_info": {
      "name": "python"
    }
  },
  "cells": [
    {
      "cell_type": "markdown",
      "metadata": {
        "id": "view-in-github",
        "colab_type": "text"
      },
      "source": [
        "<a href=\"https://colab.research.google.com/github/sngo/llms-practice/blob/main/Git_KnowlegdeWorker_LangChain_VectorDb.ipynb\" target=\"_parent\"><img src=\"https://colab.research.google.com/assets/colab-badge.svg\" alt=\"Open In Colab\"/></a>"
      ]
    },
    {
      "cell_type": "code",
      "source": [
        "!pip install -q gradio>=4.0.0\n",
        "!pip install -q langchain-community\n",
        "!pip install -q opentelemetry-api==1.33.0"
      ],
      "metadata": {
        "id": "WEVUxemkX2vQ"
      },
      "execution_count": null,
      "outputs": []
    },
    {
      "cell_type": "code",
      "source": [
        "!pip install -q langchain-openai\n",
        "!pip install -q langchain-chroma chromadb"
      ],
      "metadata": {
        "id": "vm2Fcmwjf7EL"
      },
      "execution_count": null,
      "outputs": []
    },
    {
      "cell_type": "code",
      "execution_count": null,
      "metadata": {
        "id": "5VXtU_qAXZNT"
      },
      "outputs": [],
      "source": [
        "import os\n",
        "import glob\n",
        "import gradio as gr\n",
        "from google.colab import userdata"
      ]
    },
    {
      "cell_type": "code",
      "source": [
        "# imports for langchain\n",
        "\n",
        "from langchain.document_loaders import DirectoryLoader, TextLoader\n",
        "from langchain.text_splitter import CharacterTextSplitter\n",
        "from langchain.schema import Document\n",
        "from langchain_openai import OpenAIEmbeddings, ChatOpenAI\n",
        "#!pip install --upgrade --quiet langchain-chroma chromadb opentelemetry-api\n",
        "from langchain_chroma import Chroma\n",
        "import numpy as np\n",
        "from sklearn.manifold import TSNE\n",
        "import plotly.graph_objects as go"
      ],
      "metadata": {
        "id": "_HNV_pFOXxCT"
      },
      "execution_count": null,
      "outputs": []
    },
    {
      "cell_type": "code",
      "source": [
        "MODEL = \"gpt-4o-mini\"\n",
        "db_name = \"vector_db\""
      ],
      "metadata": {
        "id": "BlEVF4qmfxtK"
      },
      "execution_count": null,
      "outputs": []
    },
    {
      "cell_type": "code",
      "source": [
        "openai_api_key = userdata.get('OPENAI_API_KEY')"
      ],
      "metadata": {
        "id": "bVVZb9lEpwjU"
      },
      "execution_count": null,
      "outputs": []
    },
    {
      "cell_type": "code",
      "source": [
        "from google.colab import drive\n",
        "drive.mount('/content/drive')"
      ],
      "metadata": {
        "colab": {
          "base_uri": "https://localhost:8080/"
        },
        "id": "zcVmPjLngIQB",
        "outputId": "3ff16d4a-b7ed-4159-e52e-dff475a27e04"
      },
      "execution_count": null,
      "outputs": [
        {
          "output_type": "stream",
          "name": "stdout",
          "text": [
            "Mounted at /content/drive\n"
          ]
        }
      ]
    },
    {
      "cell_type": "code",
      "source": [
        "folder_path = \"your-path-here/knowledge-base/*\"\n",
        "folders = glob.glob(folder_path)"
      ],
      "metadata": {
        "id": "-OMUy8Z1gh29"
      },
      "execution_count": null,
      "outputs": []
    },
    {
      "cell_type": "code",
      "source": [
        "db_path = f\"your-path-here/{db_name}\""
      ],
      "metadata": {
        "id": "OJMw0Vv2hJv2"
      },
      "execution_count": null,
      "outputs": []
    },
    {
      "cell_type": "code",
      "source": [
        "db_path"
      ],
      "metadata": {
        "id": "tP10DcmGqBAL"
      },
      "execution_count": null,
      "outputs": []
    },
    {
      "cell_type": "code",
      "source": [
        "documents = []\n",
        "for folder in folders:\n",
        "    doc_type = os.path.basename(folder)\n",
        "    loader = DirectoryLoader(folder, glob=\"**/*.md\", loader_cls=TextLoader)\n",
        "    folder_docs = loader.load()\n",
        "    for doc in folder_docs:\n",
        "        doc.metadata[\"doc_type\"] = doc_type\n",
        "        documents.append(doc)"
      ],
      "metadata": {
        "id": "h9lLc9nwhL9L"
      },
      "execution_count": null,
      "outputs": []
    },
    {
      "cell_type": "code",
      "source": [
        "len(documents)"
      ],
      "metadata": {
        "id": "w4156-pMhi-t"
      },
      "execution_count": null,
      "outputs": []
    },
    {
      "cell_type": "code",
      "source": [
        "text_splitter = CharacterTextSplitter(chunk_size=1000, chunk_overlap=200)\n",
        "chunks = text_splitter.split_documents(documents)"
      ],
      "metadata": {
        "id": "JdE8KY4hjCS-"
      },
      "execution_count": null,
      "outputs": []
    },
    {
      "cell_type": "code",
      "source": [
        "len(chunks)"
      ],
      "metadata": {
        "id": "T5746EAjjFos"
      },
      "execution_count": null,
      "outputs": []
    },
    {
      "cell_type": "code",
      "source": [
        "doc_types = set(chunk.metadata['doc_type'] for chunk in chunks)\n",
        "print(f\"Document types found: {','.join(doc_types)}\")"
      ],
      "metadata": {
        "colab": {
          "base_uri": "https://localhost:8080/"
        },
        "id": "0ix-qqXujJL_",
        "outputId": "538a76eb-7bae-45d5-eedc-66d1f96acca2"
      },
      "execution_count": null,
      "outputs": [
        {
          "output_type": "stream",
          "name": "stdout",
          "text": [
            "Document types found: employees,company,contracts,products\n"
          ]
        }
      ]
    },
    {
      "cell_type": "code",
      "source": [
        "for chunk in chunks:\n",
        "    if 'Smith' in chunk.page_content:\n",
        "        print(chunk.metadata)\n",
        "        print('---------------')"
      ],
      "metadata": {
        "id": "OIB_Xtr7jMs0"
      },
      "execution_count": null,
      "outputs": []
    },
    {
      "cell_type": "markdown",
      "source": [
        "=======Start Vector Section=========="
      ],
      "metadata": {
        "id": "5_5X_3flqmxH"
      }
    },
    {
      "cell_type": "code",
      "source": [
        "embeddings = OpenAIEmbeddings(api_key=openai_api_key)"
      ],
      "metadata": {
        "id": "2FLvDG-4jYBw"
      },
      "execution_count": null,
      "outputs": []
    },
    {
      "cell_type": "code",
      "source": [
        "# Check if a Chroma Datastore already exists - if so, delete the collection to start from scratch\n",
        "\n",
        "if os.path.exists(db_path):\n",
        "    Chroma(persist_directory=db_path, embedding_function=embeddings).delete_collection()"
      ],
      "metadata": {
        "id": "vwE8pyX4q3MX"
      },
      "execution_count": null,
      "outputs": []
    },
    {
      "cell_type": "code",
      "source": [
        "# Create our Chroma vectorstore!\n",
        "\n",
        "vectorstore = Chroma.from_documents(documents=chunks, embedding=embeddings, persist_directory=db_path)\n",
        "print(f\"Vectorstore created with {vectorstore._collection.count()} documents\")"
      ],
      "metadata": {
        "colab": {
          "base_uri": "https://localhost:8080/"
        },
        "id": "5loTvxZZq8sZ",
        "outputId": "8e07cd50-e345-42a7-9a4e-598dacd5536e"
      },
      "execution_count": null,
      "outputs": [
        {
          "output_type": "stream",
          "name": "stdout",
          "text": [
            "Vectorstore created with 123 documents\n"
          ]
        }
      ]
    },
    {
      "cell_type": "code",
      "source": [
        "# Get one vector and find how many dimensions it has\n",
        "\n",
        "collection = vectorstore._collection\n",
        "sample_embedding = collection.get(limit=1, include=[\"embeddings\"])[\"embeddings\"][0]\n",
        "dimensions = len(sample_embedding)\n",
        "print(f\"The vectors have {dimensions:,} dimensions\")"
      ],
      "metadata": {
        "colab": {
          "base_uri": "https://localhost:8080/"
        },
        "id": "dRTPeRxIryxJ",
        "outputId": "ae91460b-91d8-4fa9-815e-b7a5ffadbaf3"
      },
      "execution_count": null,
      "outputs": [
        {
          "output_type": "stream",
          "name": "stdout",
          "text": [
            "The vectors have 1,536 dimensions\n"
          ]
        }
      ]
    },
    {
      "cell_type": "markdown",
      "source": [
        "#Visualizing the Vector Store"
      ],
      "metadata": {
        "id": "qMj_E1PhspGD"
      }
    },
    {
      "cell_type": "code",
      "source": [
        "result = collection.get(include=['embeddings', 'documents', 'metadatas'])\n",
        "vectors = np.array(result['embeddings'])\n",
        "documents = result['documents']\n",
        "doc_types = [metadata['doc_type'] for metadata in result['metadatas']]\n",
        "colors = [['blue', 'green', 'red', 'orange'][['products', 'employees', 'contracts', 'company'].index(t)] for t in doc_types]"
      ],
      "metadata": {
        "id": "25BZYxMosmC7"
      },
      "execution_count": null,
      "outputs": []
    },
    {
      "cell_type": "code",
      "source": [
        "# We humans find it easier to visalize things in 2D!\n",
        "# Reduce the dimensionality of the vectors to 2D using t-SNE\n",
        "# (t-distributed stochastic neighbor embedding)\n",
        "\n",
        "tsne = TSNE(n_components=2, random_state=42)\n",
        "reduced_vectors = tsne.fit_transform(vectors)\n",
        "\n",
        "# Create the 2D scatter plot\n",
        "fig = go.Figure(data=[go.Scatter(\n",
        "    x=reduced_vectors[:, 0],\n",
        "    y=reduced_vectors[:, 1],\n",
        "    mode='markers',\n",
        "    marker=dict(size=5, color=colors, opacity=0.8),\n",
        "    text=[f\"Type: {t}<br>Text: {d[:100]}...\" for t, d in zip(doc_types, documents)],\n",
        "    hoverinfo='text'\n",
        ")])\n",
        "\n",
        "fig.update_layout(\n",
        "    title='2D Chroma Vector Store Visualization',\n",
        "    scene=dict(xaxis_title='x',yaxis_title='y'),\n",
        "    width=800,\n",
        "    height=600,\n",
        "    margin=dict(r=20, b=10, l=10, t=40)\n",
        ")\n",
        "\n",
        "fig.show()"
      ],
      "metadata": {
        "colab": {
          "base_uri": "https://localhost:8080/",
          "height": 617
        },
        "id": "TmX2_Nczs82t",
        "outputId": "f40467a5-0471-4582-fa75-fdc905cfe08b"
      },
      "execution_count": null,
      "outputs": [
        {
          "output_type": "display_data",
          "data": {
            "text/html": [
              "<html>\n",
              "<head><meta charset=\"utf-8\" /></head>\n",
              "<body>\n",
              "    <div>            <script src=\"https://cdnjs.cloudflare.com/ajax/libs/mathjax/2.7.5/MathJax.js?config=TeX-AMS-MML_SVG\"></script><script type=\"text/javascript\">if (window.MathJax && window.MathJax.Hub && window.MathJax.Hub.Config) {window.MathJax.Hub.Config({SVG: {font: \"STIX-Web\"}});}</script>                <script type=\"text/javascript\">window.PlotlyConfig = {MathJaxConfig: 'local'};</script>\n",
              "        <script charset=\"utf-8\" src=\"https://cdn.plot.ly/plotly-2.35.2.min.js\"></script>                <div id=\"9f5d8e75-33b6-48ea-9fed-a036f62bd089\" class=\"plotly-graph-div\" style=\"height:600px; width:800px;\"></div>            <script type=\"text/javascript\">                                    window.PLOTLYENV=window.PLOTLYENV || {};                                    if (document.getElementById(\"9f5d8e75-33b6-48ea-9fed-a036f62bd089\")) {                    Plotly.newPlot(                        \"9f5d8e75-33b6-48ea-9fed-a036f62bd089\",                        [{\"hoverinfo\":\"text\",\"marker\":{\"color\":[\"green\",\"green\",\"green\",\"green\",\"green\",\"green\",\"green\",\"green\",\"green\",\"green\",\"green\",\"green\",\"green\",\"green\",\"green\",\"green\",\"green\",\"green\",\"green\",\"green\",\"green\",\"green\",\"green\",\"green\",\"green\",\"green\",\"green\",\"green\",\"green\",\"green\",\"green\",\"green\",\"green\",\"green\",\"green\",\"green\",\"green\",\"green\",\"green\",\"green\",\"green\",\"green\",\"green\",\"green\",\"green\",\"green\",\"green\",\"orange\",\"orange\",\"orange\",\"blue\",\"blue\",\"blue\",\"blue\",\"blue\",\"blue\",\"blue\",\"blue\",\"blue\",\"blue\",\"blue\",\"blue\",\"blue\",\"blue\",\"blue\",\"blue\",\"blue\",\"blue\",\"blue\",\"blue\",\"blue\",\"red\",\"red\",\"red\",\"red\",\"red\",\"red\",\"red\",\"red\",\"red\",\"red\",\"red\",\"red\",\"red\",\"red\",\"red\",\"red\",\"red\",\"red\",\"red\",\"red\",\"red\",\"red\",\"red\",\"red\",\"red\",\"red\",\"red\",\"red\",\"red\",\"red\",\"red\",\"red\",\"red\",\"red\",\"red\",\"red\",\"red\",\"red\",\"red\",\"red\",\"red\",\"red\",\"red\",\"red\",\"red\",\"red\",\"red\",\"red\",\"red\",\"red\",\"red\",\"red\"],\"opacity\":0.8,\"size\":5},\"mode\":\"markers\",\"text\":[\"Type: employees\\u003cbr\\u003eText: # HR Record\\n\\n# Emily Carter\\n\\n## Summary\\n- **Date of Birth:** August 12, 1990  \\n- **Job Title:** Acco...\",\"Type: employees\\u003cbr\\u003eText: - **2017-2019:** Marketing Intern  \\n  - Assisted with market research and campaign development for s...\",\"Type: employees\\u003cbr\\u003eText: ## Compensation History\\n| Year | Base Salary | Bonus         | Total Compensation |\\n|------|--------...\",\"Type: employees\\u003cbr\\u003eText: Emily Carter exemplifies the kind of talent that drives Insurellm's success and is an invaluable ass...\",\"Type: employees\\u003cbr\\u003eText: # HR Record\\n\\n# Emily Tran\\n\\n## Summary\\n- **Date of Birth:** March 18, 1991  \\n- **Job Title:** Digital...\",\"Type: employees\\u003cbr\\u003eText: - **January 2017 - May 2018**: Marketing Intern  \\n  - Supported the Marketing team by collaborating ...\",\"Type: employees\\u003cbr\\u003eText: - **2021**:  \\n  - Performance Rating: Meets Expectations  \\n  - Key Achievements: Contributed to the ...\",\"Type: employees\\u003cbr\\u003eText: - **Professional Development Goals**:  \\n  - Emily Tran aims to become a Marketing Manager within the...\",\"Type: employees\\u003cbr\\u003eText: # HR Record\\n\\n# Maxine Thompson\\n\\n## Summary\\n- **Date of Birth:** January 15, 1991  \\n- **Job Title:** ...\",\"Type: employees\\u003cbr\\u003eText: ## Insurellm Career Progression\\n- **January 2017 - October 2018**: **Junior Data Engineer**  \\n  * Ma...\",\"Type: employees\\u003cbr\\u003eText: ## Annual Performance History\\n- **2017**: *Meets Expectations*  \\n  Maxine showed potential in her ro...\",\"Type: employees\\u003cbr\\u003eText: - **2021**: *Exceeds Expectations*  \\n  Maxine spearheaded the transition to a new data warehousing s...\",\"Type: employees\\u003cbr\\u003eText: ## Compensation History\\n- **2017**: $70,000 (Junior Data Engineer)  \\n- **2018**: $75,000 (Junior Dat...\",\"Type: employees\\u003cbr\\u003eText: # HR Record\\n\\n# Alex Chen\\n\\n## Summary\\n- **Date of Birth:** March 15, 1990  \\n- **Job Title:** Backend ...\",\"Type: employees\\u003cbr\\u003eText: ## Annual Performance History\\n- **2020:**  \\n  - Completed onboarding successfully.  \\n  - Met expecta...\",\"Type: employees\\u003cbr\\u003eText: ## Compensation History\\n- **2020:** Base Salary: $80,000  \\n- **2021:** Base Salary Increase to $90,0...\",\"Type: employees\\u003cbr\\u003eText: Alex Chen continues to be a vital asset at Insurellm, contributing significantly to innovative backe...\",\"Type: employees\\u003cbr\\u003eText: # HR Record\\n\\n# Alex Thomson\\n\\n## Summary\\n- **Date of Birth:** March 15, 1995  \\n- **Job Title:** Sales...\",\"Type: employees\\u003cbr\\u003eText: ## Annual Performance History  \\n- **2022** - Rated as \\\"Exceeds Expectations.\\\" Alex Thomson achieved ...\",\"Type: employees\\u003cbr\\u003eText: ## Other HR Notes\\n- Alex Thomson is an active member of the Diversity and Inclusion committee at Ins...\",\"Type: employees\\u003cbr\\u003eText: # HR Record\\n\\n# Jordan K. Bishop\\n\\n## Summary\\n- **Date of Birth:** March 15, 1990\\n- **Job Title:** Fro...\",\"Type: employees\\u003cbr\\u003eText: ## Annual Performance History\\n- **2019:** Exceeds Expectations - Continuously delivered high-quality...\",\"Type: employees\\u003cbr\\u003eText: ## Compensation History\\n- **June 2018:** Starting Salary - $85,000\\n- **June 2019:** Salary Increase ...\",\"Type: employees\\u003cbr\\u003eText: ## Other HR Notes\\n- Jordan K. Bishop has been an integral part of club initiatives, including the In...\",\"Type: employees\\u003cbr\\u003eText: # HR Record\\n\\n# Jordan Blake\\n\\n## Summary\\n- **Date of Birth:** March 15, 1993  \\n- **Job Title:** Sales...\",\"Type: employees\\u003cbr\\u003eText: ## Annual Performance History\\n- **2021:** First year at Insurellm; achieved 90% of monthly targets. ...\",\"Type: employees\\u003cbr\\u003eText: ## Other HR Notes\\n- Jordan has shown an interest in continuing education, actively participating in ...\",\"Type: employees\\u003cbr\\u003eText: # Samantha Greene\\n\\n## Summary\\n- **Date of Birth:** October 14, 1990\\n- **Job Title:** HR Generalist\\n-...\",\"Type: employees\\u003cbr\\u003eText: ## Annual Performance History\\n- **2020:** Exceeds Expectations  \\n  Samantha Greene demonstrated exce...\",\"Type: employees\\u003cbr\\u003eText: ## Compensation History\\n- **2020:** Base Salary - $55,000  \\n  The entry-level salary matched industr...\",\"Type: employees\\u003cbr\\u003eText: - **2023:** Base Salary - $70,000  \\n  Recognized for substantial improvement in employee relations m...\",\"Type: employees\\u003cbr\\u003eText: # Avery Lancaster\\n\\n## Summary\\n- **Date of Birth**: March 15, 1985  \\n- **Job Title**: Co-Founder & Ch...\",\"Type: employees\\u003cbr\\u003eText: - **2010 - 2013**: Business Analyst at Edge Analytics  \\n  Prior to joining Innovate, Avery worked as...\",\"Type: employees\\u003cbr\\u003eText: - **2018**: **Exceeds Expectations**  \\n  Under Avery’s pivoted vision, Insurellm launched two new su...\",\"Type: employees\\u003cbr\\u003eText: - **2022**: **Satisfactory**  \\n  Avery focused on rebuilding team dynamics and addressing employee c...\",\"Type: employees\\u003cbr\\u003eText: ## Compensation History\\n- **2015**: $150,000 base salary + Significant equity stake  \\n- **2016**: $1...\",\"Type: employees\\u003cbr\\u003eText: ## Other HR Notes\\n- **Professional Development**: Avery has actively participated in leadership trai...\",\"Type: employees\\u003cbr\\u003eText: # HR Record\\n\\n# Alex Harper\\n\\n## Summary\\n- **Date of Birth**: March 15, 1993  \\n- **Job Title**: Sales ...\",\"Type: employees\\u003cbr\\u003eText: ## Annual Performance History  \\n- **2021**:  \\n  - **Performance Rating**: 4.5\\u002f5  \\n  - **Key Achievem...\",\"Type: employees\\u003cbr\\u003eText: - **2022**:  \\n  - **Base Salary**: $65,000 (Promotion to Senior SDR)  \\n  - **Bonus**: $13,000 (20% o...\",\"Type: employees\\u003cbr\\u003eText: # HR Record\\n\\n# Samuel Trenton\\n\\n## Summary\\n- **Date of Birth:** April 12, 1989  \\n- **Job Title:** Sen...\",\"Type: employees\\u003cbr\\u003eText: ## Annual Performance History\\n- **2023:** Rating: 4.5\\u002f5  \\n  *Samuel exceeded expectations, successfu...\",\"Type: employees\\u003cbr\\u003eText: ## Compensation History\\n- **2023:** Base Salary: $115,000 + Bonus: $15,000  \\n  *Annual bonus based o...\",\"Type: employees\\u003cbr\\u003eText: - **Engagement in Company Culture:** Regularly participates in team-building events and contributes ...\",\"Type: employees\\u003cbr\\u003eText: # HR Record\\n\\n# Oliver Spencer\\n\\n## Summary\\n- **Date of Birth**: May 14, 1990  \\n- **Job Title**: Backe...\",\"Type: employees\\u003cbr\\u003eText: ## Annual Performance History\\n- **2018**: **3\\u002f5** - Adaptable team player but still learning to take...\",\"Type: employees\\u003cbr\\u003eText: ## Compensation History\\n- **March 2018**: Initial salary of $80,000.\\n- **July 2019**: Salary increas...\",\"Type: company\\u003cbr\\u003eText: # About Insurellm\\n\\nInsurellm was founded by Avery Lancaster in 2015 as an insurance tech startup des...\",\"Type: company\\u003cbr\\u003eText: # Careers at Insurellm\\n\\nInsurellm is hiring! We are looking for talented software engineers, data sc...\",\"Type: company\\u003cbr\\u003eText: # Overview of Insurellm\\n\\nInsurellm is an innovative insurance tech firm with 200 employees across th...\",\"Type: products\\u003cbr\\u003eText: # Product Summary\\n\\n# Homellm\\n\\n## Summary\\nHomellm is an innovative home insurance product developed b...\",\"Type: products\\u003cbr\\u003eText: ### 2. Dynamic Pricing Model\\nWith Homellm's innovative dynamic pricing model, insurance providers ca...\",\"Type: products\\u003cbr\\u003eText: ### 5. Multi-Channel Integration\\nHomellm seamlessly integrates into existing insurance platforms, pr...\",\"Type: products\\u003cbr\\u003eText: - **Basic Tier:** Starting at $5,000\\u002fmonth for small insurers with basic integration features.\\n- **S...\",\"Type: products\\u003cbr\\u003eText: All tiers include a comprehensive training program and ongoing updates to ensure optimal performance...\",\"Type: products\\u003cbr\\u003eText: With Homellm, Insurellm is committed to transforming the landscape of home insurance, ensuring both ...\",\"Type: products\\u003cbr\\u003eText: # Product Summary\\n\\n# Carllm\\n\\n## Summary\\n\\nCarllm is an innovative auto insurance product developed by...\",\"Type: products\\u003cbr\\u003eText: - **Instant Quoting**: With Carllm, insurance companies can offer near-instant quotes to customers, ...\",\"Type: products\\u003cbr\\u003eText: - **Mobile Integration**: Carllm is designed to work seamlessly with mobile applications, providing ...\",\"Type: products\\u003cbr\\u003eText: - **Professional Tier**: $2,500\\u002fmonth\\n  - For medium-sized companies.\\n  - All Basic Tier features pl...\",\"Type: products\\u003cbr\\u003eText: ### Q2 2025: Customer Experience Improvements\\n- Launch of a new **mobile app** for end-users.\\n- Intr...\",\"Type: products\\u003cbr\\u003eText: # Product Summary\\n\\n# Markellm\\n\\n## Summary\\n\\nMarkellm is an innovative two-sided marketplace designed ...\",\"Type: products\\u003cbr\\u003eText: - **User-Friendly Interface**: Designed with user experience in mind, Markellm features an intuitive...\",\"Type: products\\u003cbr\\u003eText: - **Customer Support**: Our dedicated support team is always available to assist both consumers and ...\",\"Type: products\\u003cbr\\u003eText: ### For Insurance Companies:\\n- **Basic Listing Fee**: $199\\u002fmonth for a featured listing on the platf...\",\"Type: products\\u003cbr\\u003eText: ### Q3 2025\\n- Initiate a comprehensive marketing campaign targeting both consumers and insurers to i...\",\"Type: products\\u003cbr\\u003eText: # Product Summary\\n\\n# Rellm: AI-Powered Enterprise Reinsurance Solution\\n\\n## Summary\\n\\nRellm is an inno...\",\"Type: products\\u003cbr\\u003eText: ### Seamless Integrations\\nRellm's architecture is designed for effortless integration with existing ...\",\"Type: products\\u003cbr\\u003eText: ### Regulatory Compliance Tools\\nRellm includes built-in compliance tracking features to help organiz...\",\"Type: products\\u003cbr\\u003eText: Join the growing number of organizations leveraging Rellm to enhance their reinsurance processes whi...\",\"Type: products\\u003cbr\\u003eText: Experience the future of reinsurance with Rellm, where innovation meets reliability. Let Insurellm h...\",\"Type: contracts\\u003cbr\\u003eText: # Contract with Pinnacle Insurance Co. for Homellm\\n\\n## Terms\\nThis contract (\\\"Contract\\\") is entered i...\",\"Type: contracts\\u003cbr\\u003eText: ## Renewal\\n1. **Renewal Terms**: At the end of the initial term, this Contract shall automatically r...\",\"Type: contracts\\u003cbr\\u003eText: ## Features\\n1. **AI-Powered Risk Assessment**: Utilized for tailored underwriting decisions specific...\",\"Type: contracts\\u003cbr\\u003eText: ## Support\\n1. **Technical Support**: Insurellm shall provide 24\\u002f7 technical support via an email and...\",\"Type: contracts\\u003cbr\\u003eText: # Contract with Stellar Insurance Co. for Rellm\\n\\n## Terms\\nThis contract is made between **Insurellm*...\",\"Type: contracts\\u003cbr\\u003eText: ### Termination\\nEither party may terminate this agreement with a **30-day written notice**. In the e...\",\"Type: contracts\\u003cbr\\u003eText: ## Features\\nStellar Insurance Co. will receive access to the following features of the Rellm product...\",\"Type: contracts\\u003cbr\\u003eText: ## Support\\nInsurellm provides Stellar Insurance Co. with the following support services:\\n\\n- **24\\u002f7 T...\",\"Type: contracts\\u003cbr\\u003eText: # Contract with BrightWay Solutions for Markellm\\n\\n**Contract Date:** October 5, 2023  \\n**Contract ID...\",\"Type: contracts\\u003cbr\\u003eText: 3. **Service Level Agreement (SLA):**  \\n   Insurellm commits to a 99.9% uptime for the platform with...\",\"Type: contracts\\u003cbr\\u003eText: 2. **Real-Time Quote Availability:**  \\n   Consumers sourced via BrightWay Solutions will receive rea...\",\"Type: contracts\\u003cbr\\u003eText: 3. **Training and Onboarding:**  \\n   Insurellm agrees to provide one free training session on how to...\",\"Type: contracts\\u003cbr\\u003eText: # Contract with GreenField Holdings for Markellm\\n\\n**Effective Date:** November 15, 2023  \\n**Contract...\",\"Type: contracts\\u003cbr\\u003eText: ## Renewal\\n1. **Automatic Renewal**: This contract will automatically renew for sequential one-year ...\",\"Type: contracts\\u003cbr\\u003eText: ## Features\\n1. **AI-Powered Matching**: Access to advanced algorithms that connect GreenField Holdin...\",\"Type: contracts\\u003cbr\\u003eText: ## Support\\n1. **Customer Support Access**: The Client will have access to dedicated support through ...\",\"Type: contracts\\u003cbr\\u003eText: **Signatures:**  \\n_________________________                           _________________________  \\n**...\",\"Type: contracts\\u003cbr\\u003eText: # Contract with GreenValley Insurance for Homellm\\n\\n**Contract Date:** October 6, 2023  \\n**Contract N...\",\"Type: contracts\\u003cbr\\u003eText: 4. **Confidentiality:** Both parties agree to maintain the confidentiality of proprietary informatio...\",\"Type: contracts\\u003cbr\\u003eText: 1. **AI-Powered Risk Assessment:** Access to advanced AI algorithms for real-time risk evaluations.\\n...\",\"Type: contracts\\u003cbr\\u003eText: 3. **Regular Updates:** Insurellm will offer ongoing updates and enhancements to the Homellm platfor...\",\"Type: contracts\\u003cbr\\u003eText: # Contract with Velocity Auto Solutions for Carllm\\n\\n**Contract Date:** October 1, 2023  \\n**Contract ...\",\"Type: contracts\\u003cbr\\u003eText: ## Renewal\\n\\n1. **Automatic Renewal**: This contract will automatically renew for successive 12-month...\",\"Type: contracts\\u003cbr\\u003eText: ## Support\\n\\n1. **Customer Support**: Velocity Auto Solutions will have access to Insurellm’s custome...\",\"Type: contracts\\u003cbr\\u003eText: # Contract with Greenstone Insurance for Homellm\\n\\n---\\n\\n## Terms\\n\\n1. **Parties**: This Contract (\\\"Agr...\",\"Type: contracts\\u003cbr\\u003eText: 4. **Payment Terms**: \\n   - The Customer shall pay an amount of $10,000 per month for the Standard T...\",\"Type: contracts\\u003cbr\\u003eText: ---\\n\\n## Features\\n\\n- **AI-Powered Risk Assessment**: Customer will have access to enhanced risk evalu...\",\"Type: contracts\\u003cbr\\u003eText: - **Customer Portal**: A dedicated portal will be provided, allowing the Customer's clients to manag...\",\"Type: contracts\\u003cbr\\u003eText: ______________________________  \\n[Name], [Title]  \\nDate: ______________________\\n\\n**For Greenstone In...\",\"Type: contracts\\u003cbr\\u003eText: # Contract with Belvedere Insurance for Markellm\\n\\n## Terms\\nThis Contract (\\\"Agreement\\\") is made and e...\",\"Type: contracts\\u003cbr\\u003eText: ## Renewal\\n1. **Renewal Terms**: This Agreement may be renewed for additional one-year terms upon mu...\",\"Type: contracts\\u003cbr\\u003eText: ## Features\\n1. **AI-Powered Matching**: Belvedere Insurance will benefit from Markellm's AI-powered ...\",\"Type: contracts\\u003cbr\\u003eText: ## Support\\n1. **Technical Support**: Technical support will be available from 9 AM to 7 PM EST, Mond...\",\"Type: contracts\\u003cbr\\u003eText: **Belvedere Insurance**  \\nSignature: ______________________  \\nName: [Authorized Signatory]  \\nTitle: ...\",\"Type: contracts\\u003cbr\\u003eText: # Contract with EverGuard Insurance for Rellm: AI-Powered Enterprise Reinsurance Solution\\n\\n**Contrac...\",\"Type: contracts\\u003cbr\\u003eText: 4. **Usage Rights**: EverGuard Insurance is granted a non-exclusive, non-transferable license to acc...\",\"Type: contracts\\u003cbr\\u003eText: 1. **Core Functionality**: Rellm provides EverGuard Insurance with advanced AI-driven analytics, sea...\",\"Type: contracts\\u003cbr\\u003eText: 1. **Customer Support**: Insurellm will provide EverGuard Insurance with 24\\u002f7 customer support, incl...\",\"Type: contracts\\u003cbr\\u003eText: ---\\n\\n**Signatures**  \\n**For Insurellm**: __________________________  \\n**Name**: John Smith  \\n**Title...\",\"Type: contracts\\u003cbr\\u003eText: # Contract with Apex Reinsurance for Rellm: AI-Powered Enterprise Reinsurance Solution\\n\\n## Terms\\n\\n1....\",\"Type: contracts\\u003cbr\\u003eText: ## Renewal\\n\\n1. **Automatic Renewal**: This Agreement will automatically renew for successive one-yea...\",\"Type: contracts\\u003cbr\\u003eText: 2. **Seamless Integrations**: The architecture of Rellm allows for easy integration with existing sy...\",\"Type: contracts\\u003cbr\\u003eText: 1. **Technical Support**: Provider shall offer dedicated technical support to the Client via phone, ...\",\"Type: contracts\\u003cbr\\u003eText: **Insurellm, Inc.**  \\n_____________________________  \\nAuthorized Signature   \\nDate: ________________...\",\"Type: contracts\\u003cbr\\u003eText: # Contract with TechDrive Insurance for Carllm\\n\\n**Contract Date:** October 1, 2024  \\n**Contract Dura...\",\"Type: contracts\\u003cbr\\u003eText: ## Renewal\\n\\n1. **Automatic Renewal**: This contract shall automatically renew for additional one-yea...\",\"Type: contracts\\u003cbr\\u003eText: ## Support\\n\\n1. **Customer Support**: Insurellm will provide 24\\u002f7 customer support to TechDrive Insur...\",\"Type: contracts\\u003cbr\\u003eText: **TechDrive Insurance Representative:**  \\nName: Sarah Johnson  \\nTitle: Operations Director  \\nDate: _...\",\"Type: contracts\\u003cbr\\u003eText: # Contract with Roadway Insurance Inc. for Carllm\\n\\n---\\n\\n## Terms\\n\\n1. **Agreement Effective Date**: T...\",\"Type: contracts\\u003cbr\\u003eText: ---\\n\\n## Renewal\\n\\n1. **Automatic Renewal**: This agreement will automatically renew for an additional...\",\"Type: contracts\\u003cbr\\u003eText: ---\\n\\n## Features\\n\\n1. **Access to Core Features**: Roadway Insurance Inc. will have access to all Pro...\",\"Type: contracts\\u003cbr\\u003eText: ---\\n\\n## Support\\n\\n1. **Technical Support**: Roadway Insurance Inc. will receive priority technical su...\"],\"x\":[3.1309443,0.8617107,3.4142618,0.99734277,2.2633023,1.4213688,2.9320123,1.5555737,6.5299993,-2.09172,-1.1420462,-1.9124001,1.1008731,5.202069,0.19481373,2.8289704,0.45521176,3.8766444,1.7089347,3.242867,4.8814406,-0.1629867,2.0131385,4.20841,4.243386,2.3940423,3.6537037,5.334322,4.2350893,4.6621027,4.830127,-1.0048366,-1.4564053,-2.0178487,-2.1777725,2.7179425,-0.9858799,4.1255574,1.8208559,2.734211,5.234232,1.1064576,1.8063885,-0.6059202,5.549811,-0.023483038,3.2228987,-1.5504751,-0.81637585,-1.6198484,-3.212527,-3.978249,-3.4422278,-2.722651,-2.3478956,-2.2785468,-1.231993,-1.3256686,-2.1602056,-2.4619493,-1.0377163,-6.5184827,-6.972938,-7.7752943,-8.732371,-5.812791,-4.117653,-5.256076,-4.5723248,-1.2794828,-1.2758873,-11.419887,-6.4137955,-4.8579817,-9.287195,-7.2060466,-6.9388056,-5.063419,-7.0257654,-9.338666,-8.053869,-8.151158,-9.227212,-10.7281275,-6.409256,-6.100508,-9.57291,-11.113613,-11.345825,-10.974236,-5.209192,-10.736805,-3.167902,-3.396649,-5.061452,-10.579547,-9.760107,-4.4823895,-9.726275,-11.485852,-10.325902,-6.5278463,-7.2000194,-8.87454,-10.848838,-7.3513184,-6.367281,-5.8474193,-7.053294,-9.171212,-7.781446,-5.8402605,-5.740564,-8.225273,-10.573991,-3.7334416,-3.3769932,-4.724425,-4.8593545,-3.4397569,-5.110914,-3.5679774,-4.2612834],\"y\":[-5.2649593,-6.561516,-10.180915,-2.5536563,-5.2712607,-5.5121202,-9.437263,-4.995746,-6.4379406,-8.789472,-7.955853,-7.7466836,-11.408783,-5.297202,-8.138109,-10.763992,-2.2076383,-6.459279,-8.738577,-6.734009,-4.467993,-7.7573996,-11.872825,-3.6643753,-5.69984,-9.9779415,-3.7961426,-8.671583,-8.712122,-10.119753,-9.603199,-3.8618302,-5.7583556,-6.147549,-6.1084805,-11.886101,-4.121283,-6.4736853,-9.614116,-8.420108,-6.26732,-9.991987,-10.813461,-10.389668,-5.116946,-8.405036,-11.071523,0.01888497,-0.4018034,0.40517733,1.821818,1.9279101,2.4375398,4.1030746,3.3719225,1.409485,6.1181207,6.197742,5.914307,5.561158,4.7928233,-0.13496561,0.021873347,0.34125605,0.4170606,-0.80271965,4.0846086,4.1224165,4.82496,3.8100612,1.9247867,5.1177077,11.686198,1.324366,6.9556775,8.255328,8.88391,5.360092,7.352645,2.957389,3.0932937,2.084059,3.484045,3.4244065,11.396921,1.7818598,0.6409629,9.661139,5.9924626,6.274985,2.2130733,6.8849325,9.349146,7.776119,8.089082,5.287608,5.0245767,2.2141478,6.2288933,9.654626,2.633158,11.88889,1.0604225,7.3603487,8.730723,5.640253,5.793598,5.0493207,6.562584,9.106912,5.2492294,6.2412667,4.2039223,7.035683,9.53654,9.362793,8.136193,8.54578,9.2641945,10.285277,10.970678,6.4123173,7.5654936],\"type\":\"scatter\"}],                        {\"template\":{\"data\":{\"histogram2dcontour\":[{\"type\":\"histogram2dcontour\",\"colorbar\":{\"outlinewidth\":0,\"ticks\":\"\"},\"colorscale\":[[0.0,\"#0d0887\"],[0.1111111111111111,\"#46039f\"],[0.2222222222222222,\"#7201a8\"],[0.3333333333333333,\"#9c179e\"],[0.4444444444444444,\"#bd3786\"],[0.5555555555555556,\"#d8576b\"],[0.6666666666666666,\"#ed7953\"],[0.7777777777777778,\"#fb9f3a\"],[0.8888888888888888,\"#fdca26\"],[1.0,\"#f0f921\"]]}],\"choropleth\":[{\"type\":\"choropleth\",\"colorbar\":{\"outlinewidth\":0,\"ticks\":\"\"}}],\"histogram2d\":[{\"type\":\"histogram2d\",\"colorbar\":{\"outlinewidth\":0,\"ticks\":\"\"},\"colorscale\":[[0.0,\"#0d0887\"],[0.1111111111111111,\"#46039f\"],[0.2222222222222222,\"#7201a8\"],[0.3333333333333333,\"#9c179e\"],[0.4444444444444444,\"#bd3786\"],[0.5555555555555556,\"#d8576b\"],[0.6666666666666666,\"#ed7953\"],[0.7777777777777778,\"#fb9f3a\"],[0.8888888888888888,\"#fdca26\"],[1.0,\"#f0f921\"]]}],\"heatmap\":[{\"type\":\"heatmap\",\"colorbar\":{\"outlinewidth\":0,\"ticks\":\"\"},\"colorscale\":[[0.0,\"#0d0887\"],[0.1111111111111111,\"#46039f\"],[0.2222222222222222,\"#7201a8\"],[0.3333333333333333,\"#9c179e\"],[0.4444444444444444,\"#bd3786\"],[0.5555555555555556,\"#d8576b\"],[0.6666666666666666,\"#ed7953\"],[0.7777777777777778,\"#fb9f3a\"],[0.8888888888888888,\"#fdca26\"],[1.0,\"#f0f921\"]]}],\"heatmapgl\":[{\"type\":\"heatmapgl\",\"colorbar\":{\"outlinewidth\":0,\"ticks\":\"\"},\"colorscale\":[[0.0,\"#0d0887\"],[0.1111111111111111,\"#46039f\"],[0.2222222222222222,\"#7201a8\"],[0.3333333333333333,\"#9c179e\"],[0.4444444444444444,\"#bd3786\"],[0.5555555555555556,\"#d8576b\"],[0.6666666666666666,\"#ed7953\"],[0.7777777777777778,\"#fb9f3a\"],[0.8888888888888888,\"#fdca26\"],[1.0,\"#f0f921\"]]}],\"contourcarpet\":[{\"type\":\"contourcarpet\",\"colorbar\":{\"outlinewidth\":0,\"ticks\":\"\"}}],\"contour\":[{\"type\":\"contour\",\"colorbar\":{\"outlinewidth\":0,\"ticks\":\"\"},\"colorscale\":[[0.0,\"#0d0887\"],[0.1111111111111111,\"#46039f\"],[0.2222222222222222,\"#7201a8\"],[0.3333333333333333,\"#9c179e\"],[0.4444444444444444,\"#bd3786\"],[0.5555555555555556,\"#d8576b\"],[0.6666666666666666,\"#ed7953\"],[0.7777777777777778,\"#fb9f3a\"],[0.8888888888888888,\"#fdca26\"],[1.0,\"#f0f921\"]]}],\"surface\":[{\"type\":\"surface\",\"colorbar\":{\"outlinewidth\":0,\"ticks\":\"\"},\"colorscale\":[[0.0,\"#0d0887\"],[0.1111111111111111,\"#46039f\"],[0.2222222222222222,\"#7201a8\"],[0.3333333333333333,\"#9c179e\"],[0.4444444444444444,\"#bd3786\"],[0.5555555555555556,\"#d8576b\"],[0.6666666666666666,\"#ed7953\"],[0.7777777777777778,\"#fb9f3a\"],[0.8888888888888888,\"#fdca26\"],[1.0,\"#f0f921\"]]}],\"mesh3d\":[{\"type\":\"mesh3d\",\"colorbar\":{\"outlinewidth\":0,\"ticks\":\"\"}}],\"scatter\":[{\"fillpattern\":{\"fillmode\":\"overlay\",\"size\":10,\"solidity\":0.2},\"type\":\"scatter\"}],\"parcoords\":[{\"type\":\"parcoords\",\"line\":{\"colorbar\":{\"outlinewidth\":0,\"ticks\":\"\"}}}],\"scatterpolargl\":[{\"type\":\"scatterpolargl\",\"marker\":{\"colorbar\":{\"outlinewidth\":0,\"ticks\":\"\"}}}],\"bar\":[{\"error_x\":{\"color\":\"#2a3f5f\"},\"error_y\":{\"color\":\"#2a3f5f\"},\"marker\":{\"line\":{\"color\":\"#E5ECF6\",\"width\":0.5},\"pattern\":{\"fillmode\":\"overlay\",\"size\":10,\"solidity\":0.2}},\"type\":\"bar\"}],\"scattergeo\":[{\"type\":\"scattergeo\",\"marker\":{\"colorbar\":{\"outlinewidth\":0,\"ticks\":\"\"}}}],\"scatterpolar\":[{\"type\":\"scatterpolar\",\"marker\":{\"colorbar\":{\"outlinewidth\":0,\"ticks\":\"\"}}}],\"histogram\":[{\"marker\":{\"pattern\":{\"fillmode\":\"overlay\",\"size\":10,\"solidity\":0.2}},\"type\":\"histogram\"}],\"scattergl\":[{\"type\":\"scattergl\",\"marker\":{\"colorbar\":{\"outlinewidth\":0,\"ticks\":\"\"}}}],\"scatter3d\":[{\"type\":\"scatter3d\",\"line\":{\"colorbar\":{\"outlinewidth\":0,\"ticks\":\"\"}},\"marker\":{\"colorbar\":{\"outlinewidth\":0,\"ticks\":\"\"}}}],\"scattermapbox\":[{\"type\":\"scattermapbox\",\"marker\":{\"colorbar\":{\"outlinewidth\":0,\"ticks\":\"\"}}}],\"scatterternary\":[{\"type\":\"scatterternary\",\"marker\":{\"colorbar\":{\"outlinewidth\":0,\"ticks\":\"\"}}}],\"scattercarpet\":[{\"type\":\"scattercarpet\",\"marker\":{\"colorbar\":{\"outlinewidth\":0,\"ticks\":\"\"}}}],\"carpet\":[{\"aaxis\":{\"endlinecolor\":\"#2a3f5f\",\"gridcolor\":\"white\",\"linecolor\":\"white\",\"minorgridcolor\":\"white\",\"startlinecolor\":\"#2a3f5f\"},\"baxis\":{\"endlinecolor\":\"#2a3f5f\",\"gridcolor\":\"white\",\"linecolor\":\"white\",\"minorgridcolor\":\"white\",\"startlinecolor\":\"#2a3f5f\"},\"type\":\"carpet\"}],\"table\":[{\"cells\":{\"fill\":{\"color\":\"#EBF0F8\"},\"line\":{\"color\":\"white\"}},\"header\":{\"fill\":{\"color\":\"#C8D4E3\"},\"line\":{\"color\":\"white\"}},\"type\":\"table\"}],\"barpolar\":[{\"marker\":{\"line\":{\"color\":\"#E5ECF6\",\"width\":0.5},\"pattern\":{\"fillmode\":\"overlay\",\"size\":10,\"solidity\":0.2}},\"type\":\"barpolar\"}],\"pie\":[{\"automargin\":true,\"type\":\"pie\"}]},\"layout\":{\"autotypenumbers\":\"strict\",\"colorway\":[\"#636efa\",\"#EF553B\",\"#00cc96\",\"#ab63fa\",\"#FFA15A\",\"#19d3f3\",\"#FF6692\",\"#B6E880\",\"#FF97FF\",\"#FECB52\"],\"font\":{\"color\":\"#2a3f5f\"},\"hovermode\":\"closest\",\"hoverlabel\":{\"align\":\"left\"},\"paper_bgcolor\":\"white\",\"plot_bgcolor\":\"#E5ECF6\",\"polar\":{\"bgcolor\":\"#E5ECF6\",\"angularaxis\":{\"gridcolor\":\"white\",\"linecolor\":\"white\",\"ticks\":\"\"},\"radialaxis\":{\"gridcolor\":\"white\",\"linecolor\":\"white\",\"ticks\":\"\"}},\"ternary\":{\"bgcolor\":\"#E5ECF6\",\"aaxis\":{\"gridcolor\":\"white\",\"linecolor\":\"white\",\"ticks\":\"\"},\"baxis\":{\"gridcolor\":\"white\",\"linecolor\":\"white\",\"ticks\":\"\"},\"caxis\":{\"gridcolor\":\"white\",\"linecolor\":\"white\",\"ticks\":\"\"}},\"coloraxis\":{\"colorbar\":{\"outlinewidth\":0,\"ticks\":\"\"}},\"colorscale\":{\"sequential\":[[0.0,\"#0d0887\"],[0.1111111111111111,\"#46039f\"],[0.2222222222222222,\"#7201a8\"],[0.3333333333333333,\"#9c179e\"],[0.4444444444444444,\"#bd3786\"],[0.5555555555555556,\"#d8576b\"],[0.6666666666666666,\"#ed7953\"],[0.7777777777777778,\"#fb9f3a\"],[0.8888888888888888,\"#fdca26\"],[1.0,\"#f0f921\"]],\"sequentialminus\":[[0.0,\"#0d0887\"],[0.1111111111111111,\"#46039f\"],[0.2222222222222222,\"#7201a8\"],[0.3333333333333333,\"#9c179e\"],[0.4444444444444444,\"#bd3786\"],[0.5555555555555556,\"#d8576b\"],[0.6666666666666666,\"#ed7953\"],[0.7777777777777778,\"#fb9f3a\"],[0.8888888888888888,\"#fdca26\"],[1.0,\"#f0f921\"]],\"diverging\":[[0,\"#8e0152\"],[0.1,\"#c51b7d\"],[0.2,\"#de77ae\"],[0.3,\"#f1b6da\"],[0.4,\"#fde0ef\"],[0.5,\"#f7f7f7\"],[0.6,\"#e6f5d0\"],[0.7,\"#b8e186\"],[0.8,\"#7fbc41\"],[0.9,\"#4d9221\"],[1,\"#276419\"]]},\"xaxis\":{\"gridcolor\":\"white\",\"linecolor\":\"white\",\"ticks\":\"\",\"title\":{\"standoff\":15},\"zerolinecolor\":\"white\",\"automargin\":true,\"zerolinewidth\":2},\"yaxis\":{\"gridcolor\":\"white\",\"linecolor\":\"white\",\"ticks\":\"\",\"title\":{\"standoff\":15},\"zerolinecolor\":\"white\",\"automargin\":true,\"zerolinewidth\":2},\"scene\":{\"xaxis\":{\"backgroundcolor\":\"#E5ECF6\",\"gridcolor\":\"white\",\"linecolor\":\"white\",\"showbackground\":true,\"ticks\":\"\",\"zerolinecolor\":\"white\",\"gridwidth\":2},\"yaxis\":{\"backgroundcolor\":\"#E5ECF6\",\"gridcolor\":\"white\",\"linecolor\":\"white\",\"showbackground\":true,\"ticks\":\"\",\"zerolinecolor\":\"white\",\"gridwidth\":2},\"zaxis\":{\"backgroundcolor\":\"#E5ECF6\",\"gridcolor\":\"white\",\"linecolor\":\"white\",\"showbackground\":true,\"ticks\":\"\",\"zerolinecolor\":\"white\",\"gridwidth\":2}},\"shapedefaults\":{\"line\":{\"color\":\"#2a3f5f\"}},\"annotationdefaults\":{\"arrowcolor\":\"#2a3f5f\",\"arrowhead\":0,\"arrowwidth\":1},\"geo\":{\"bgcolor\":\"white\",\"landcolor\":\"#E5ECF6\",\"subunitcolor\":\"white\",\"showland\":true,\"showlakes\":true,\"lakecolor\":\"white\"},\"title\":{\"x\":0.05},\"mapbox\":{\"style\":\"light\"}}},\"margin\":{\"r\":20,\"b\":10,\"l\":10,\"t\":40},\"title\":{\"text\":\"2D Chroma Vector Store Visualization\"},\"scene\":{\"xaxis\":{\"title\":{\"text\":\"x\"}},\"yaxis\":{\"title\":{\"text\":\"y\"}}},\"width\":800,\"height\":600},                        {\"responsive\": true}                    ).then(function(){\n",
              "                            \n",
              "var gd = document.getElementById('9f5d8e75-33b6-48ea-9fed-a036f62bd089');\n",
              "var x = new MutationObserver(function (mutations, observer) {{\n",
              "        var display = window.getComputedStyle(gd).display;\n",
              "        if (!display || display === 'none') {{\n",
              "            console.log([gd, 'removed!']);\n",
              "            Plotly.purge(gd);\n",
              "            observer.disconnect();\n",
              "        }}\n",
              "}});\n",
              "\n",
              "// Listen for the removal of the full notebook cells\n",
              "var notebookContainer = gd.closest('#notebook-container');\n",
              "if (notebookContainer) {{\n",
              "    x.observe(notebookContainer, {childList: true});\n",
              "}}\n",
              "\n",
              "// Listen for the clearing of the current output cell\n",
              "var outputEl = gd.closest('.output');\n",
              "if (outputEl) {{\n",
              "    x.observe(outputEl, {childList: true});\n",
              "}}\n",
              "\n",
              "                        })                };                            </script>        </div>\n",
              "</body>\n",
              "</html>"
            ]
          },
          "metadata": {}
        }
      ]
    },
    {
      "cell_type": "code",
      "source": [
        "# Let's try 3D!\n",
        "\n",
        "tsne = TSNE(n_components=3, random_state=42)\n",
        "reduced_vectors = tsne.fit_transform(vectors)\n",
        "\n",
        "# Create the 3D scatter plot\n",
        "fig = go.Figure(data=[go.Scatter3d(\n",
        "    x=reduced_vectors[:, 0],\n",
        "    y=reduced_vectors[:, 1],\n",
        "    z=reduced_vectors[:, 2],\n",
        "    mode='markers',\n",
        "    marker=dict(size=5, color=colors, opacity=0.8),\n",
        "    text=[f\"Type: {t}<br>Text: {d[:100]}...\" for t, d in zip(doc_types, documents)],\n",
        "    hoverinfo='text'\n",
        ")])\n",
        "\n",
        "fig.update_layout(\n",
        "    title='3D Chroma Vector Store Visualization',\n",
        "    scene=dict(xaxis_title='x', yaxis_title='y', zaxis_title='z'),\n",
        "    width=900,\n",
        "    height=700,\n",
        "    margin=dict(r=20, b=10, l=10, t=40)\n",
        ")\n",
        "\n",
        "fig.show()"
      ],
      "metadata": {
        "id": "UNw-f7B-s-Mc"
      },
      "execution_count": null,
      "outputs": []
    },
    {
      "cell_type": "code",
      "source": [],
      "metadata": {
        "id": "3RXuUsmBwtaO"
      },
      "execution_count": null,
      "outputs": []
    }
  ]
}