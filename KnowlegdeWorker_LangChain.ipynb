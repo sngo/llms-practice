{
  "nbformat": 4,
  "nbformat_minor": 0,
  "metadata": {
    "colab": {
      "provenance": [],
      "authorship_tag": "ABX9TyMHd7SzDzWhoKWTpI/qDcXO",
      "include_colab_link": true
    },
    "kernelspec": {
      "name": "python3",
      "display_name": "Python 3"
    },
    "language_info": {
      "name": "python"
    }
  },
  "cells": [
    {
      "cell_type": "markdown",
      "metadata": {
        "id": "view-in-github",
        "colab_type": "text"
      },
      "source": [
        "<a href=\"https://colab.research.google.com/github/sngo/llms-practice/blob/main/KnowlegdeWorker_LangChain.ipynb\" target=\"_parent\"><img src=\"https://colab.research.google.com/assets/colab-badge.svg\" alt=\"Open In Colab\"/></a>"
      ]
    },
    {
      "cell_type": "code",
      "source": [
        "!pip install -q gradio>=4.0.0\n",
        "!pip install -q langchain-community\n",
        "!pip install -q opentelemetry-api==1.33.0"
      ],
      "metadata": {
        "id": "WEVUxemkX2vQ",
        "colab": {
          "base_uri": "https://localhost:8080/"
        },
        "outputId": "416e5598-75c3-4dac-df6b-145b03923358"
      },
      "execution_count": 2,
      "outputs": [
        {
          "output_type": "stream",
          "name": "stdout",
          "text": [
            "\u001b[?25l   \u001b[90m━━━━━━━━━━━━━━━━━━━━━━━━━━━━━━━━━━━━━━━━\u001b[0m \u001b[32m0.0/2.5 MB\u001b[0m \u001b[31m?\u001b[0m eta \u001b[36m-:--:--\u001b[0m\r\u001b[2K   \u001b[91m━━━━━━━━━━━━━━━━━━━━━━━━━━\u001b[0m\u001b[90m╺\u001b[0m\u001b[90m━━━━━━━━━━━━━\u001b[0m \u001b[32m1.7/2.5 MB\u001b[0m \u001b[31m53.4 MB/s\u001b[0m eta \u001b[36m0:00:01\u001b[0m\r\u001b[2K   \u001b[90m━━━━━━━━━━━━━━━━━━━━━━━━━━━━━━━━━━━━━━━━\u001b[0m \u001b[32m2.5/2.5 MB\u001b[0m \u001b[31m47.4 MB/s\u001b[0m eta \u001b[36m0:00:00\u001b[0m\n",
            "\u001b[?25h\u001b[?25l   \u001b[90m━━━━━━━━━━━━━━━━━━━━━━━━━━━━━━━━━━━━━━━━\u001b[0m \u001b[32m0.0/44.4 kB\u001b[0m \u001b[31m?\u001b[0m eta \u001b[36m-:--:--\u001b[0m\r\u001b[2K   \u001b[90m━━━━━━━━━━━━━━━━━━━━━━━━━━━━━━━━━━━━━━━━\u001b[0m \u001b[32m44.4/44.4 kB\u001b[0m \u001b[31m3.7 MB/s\u001b[0m eta \u001b[36m0:00:00\u001b[0m\n",
            "\u001b[2K   \u001b[90m━━━━━━━━━━━━━━━━━━━━━━━━━━━━━━━━━━━━━━━━\u001b[0m \u001b[32m50.9/50.9 kB\u001b[0m \u001b[31m4.0 MB/s\u001b[0m eta \u001b[36m0:00:00\u001b[0m\n",
            "\u001b[2K   \u001b[90m━━━━━━━━━━━━━━━━━━━━━━━━━━━━━━━━━━━━━━━━\u001b[0m \u001b[32m65.8/65.8 kB\u001b[0m \u001b[31m2.5 MB/s\u001b[0m eta \u001b[36m0:00:00\u001b[0m\n",
            "\u001b[?25h"
          ]
        }
      ]
    },
    {
      "cell_type": "code",
      "source": [
        "!pip install -q langchain-openai\n",
        "!pip install -q langchain-chroma chromadb"
      ],
      "metadata": {
        "id": "vm2Fcmwjf7EL",
        "colab": {
          "base_uri": "https://localhost:8080/"
        },
        "outputId": "ed718600-979e-4498-a541-9107356c3a07"
      },
      "execution_count": 3,
      "outputs": [
        {
          "output_type": "stream",
          "name": "stdout",
          "text": [
            "\u001b[2K   \u001b[90m━━━━━━━━━━━━━━━━━━━━━━━━━━━━━━━━━━━━━━━━\u001b[0m \u001b[32m62.9/62.9 kB\u001b[0m \u001b[31m2.3 MB/s\u001b[0m eta \u001b[36m0:00:00\u001b[0m\n",
            "\u001b[2K     \u001b[90m━━━━━━━━━━━━━━━━━━━━━━━━━━━━━━━━━━━━━━━━\u001b[0m \u001b[32m67.3/67.3 kB\u001b[0m \u001b[31m4.4 MB/s\u001b[0m eta \u001b[36m0:00:00\u001b[0m\n",
            "\u001b[?25h  Installing build dependencies ... \u001b[?25l\u001b[?25hdone\n",
            "  Getting requirements to build wheel ... \u001b[?25l\u001b[?25hdone\n",
            "  Preparing metadata (pyproject.toml) ... \u001b[?25l\u001b[?25hdone\n",
            "\u001b[2K   \u001b[90m━━━━━━━━━━━━━━━━━━━━━━━━━━━━━━━━━━━━━━━━\u001b[0m \u001b[32m18.9/18.9 MB\u001b[0m \u001b[31m127.8 MB/s\u001b[0m eta \u001b[36m0:00:00\u001b[0m\n",
            "\u001b[2K   \u001b[90m━━━━━━━━━━━━━━━━━━━━━━━━━━━━━━━━━━━━━━━━\u001b[0m \u001b[32m94.9/94.9 kB\u001b[0m \u001b[31m8.1 MB/s\u001b[0m eta \u001b[36m0:00:00\u001b[0m\n",
            "\u001b[2K   \u001b[90m━━━━━━━━━━━━━━━━━━━━━━━━━━━━━━━━━━━━━━━━\u001b[0m \u001b[32m284.2/284.2 kB\u001b[0m \u001b[31m21.2 MB/s\u001b[0m eta \u001b[36m0:00:00\u001b[0m\n",
            "\u001b[2K   \u001b[90m━━━━━━━━━━━━━━━━━━━━━━━━━━━━━━━━━━━━━━━━\u001b[0m \u001b[32m2.0/2.0 MB\u001b[0m \u001b[31m86.4 MB/s\u001b[0m eta \u001b[36m0:00:00\u001b[0m\n",
            "\u001b[2K   \u001b[90m━━━━━━━━━━━━━━━━━━━━━━━━━━━━━━━━━━━━━━━━\u001b[0m \u001b[32m437.9/437.9 kB\u001b[0m \u001b[31m33.1 MB/s\u001b[0m eta \u001b[36m0:00:00\u001b[0m\n",
            "\u001b[2K   \u001b[90m━━━━━━━━━━━━━━━━━━━━━━━━━━━━━━━━━━━━━━━━\u001b[0m \u001b[32m101.6/101.6 kB\u001b[0m \u001b[31m8.9 MB/s\u001b[0m eta \u001b[36m0:00:00\u001b[0m\n",
            "\u001b[2K   \u001b[90m━━━━━━━━━━━━━━━━━━━━━━━━━━━━━━━━━━━━━━━━\u001b[0m \u001b[32m16.4/16.4 MB\u001b[0m \u001b[31m88.6 MB/s\u001b[0m eta \u001b[36m0:00:00\u001b[0m\n",
            "\u001b[2K   \u001b[90m━━━━━━━━━━━━━━━━━━━━━━━━━━━━━━━━━━━━━━━━\u001b[0m \u001b[32m55.9/55.9 kB\u001b[0m \u001b[31m4.4 MB/s\u001b[0m eta \u001b[36m0:00:00\u001b[0m\n",
            "\u001b[2K   \u001b[90m━━━━━━━━━━━━━━━━━━━━━━━━━━━━━━━━━━━━━━━━\u001b[0m \u001b[32m194.9/194.9 kB\u001b[0m \u001b[31m16.3 MB/s\u001b[0m eta \u001b[36m0:00:00\u001b[0m\n",
            "\u001b[2K   \u001b[90m━━━━━━━━━━━━━━━━━━━━━━━━━━━━━━━━━━━━━━━━\u001b[0m \u001b[32m65.8/65.8 kB\u001b[0m \u001b[31m4.9 MB/s\u001b[0m eta \u001b[36m0:00:00\u001b[0m\n",
            "\u001b[2K   \u001b[90m━━━━━━━━━━━━━━━━━━━━━━━━━━━━━━━━━━━━━━━━\u001b[0m \u001b[32m119.0/119.0 kB\u001b[0m \u001b[31m10.3 MB/s\u001b[0m eta \u001b[36m0:00:00\u001b[0m\n",
            "\u001b[2K   \u001b[90m━━━━━━━━━━━━━━━━━━━━━━━━━━━━━━━━━━━━━━━━\u001b[0m \u001b[32m92.0/92.0 kB\u001b[0m \u001b[31m7.2 MB/s\u001b[0m eta \u001b[36m0:00:00\u001b[0m\n",
            "\u001b[2K   \u001b[90m━━━━━━━━━━━━━━━━━━━━━━━━━━━━━━━━━━━━━━━━\u001b[0m \u001b[32m459.8/459.8 kB\u001b[0m \u001b[31m31.2 MB/s\u001b[0m eta \u001b[36m0:00:00\u001b[0m\n",
            "\u001b[2K   \u001b[90m━━━━━━━━━━━━━━━━━━━━━━━━━━━━━━━━━━━━━━━━\u001b[0m \u001b[32m71.5/71.5 kB\u001b[0m \u001b[31m5.6 MB/s\u001b[0m eta \u001b[36m0:00:00\u001b[0m\n",
            "\u001b[2K   \u001b[90m━━━━━━━━━━━━━━━━━━━━━━━━━━━━━━━━━━━━━━━━\u001b[0m \u001b[32m4.0/4.0 MB\u001b[0m \u001b[31m122.3 MB/s\u001b[0m eta \u001b[36m0:00:00\u001b[0m\n",
            "\u001b[2K   \u001b[90m━━━━━━━━━━━━━━━━━━━━━━━━━━━━━━━━━━━━━━━━\u001b[0m \u001b[32m454.8/454.8 kB\u001b[0m \u001b[31m36.1 MB/s\u001b[0m eta \u001b[36m0:00:00\u001b[0m\n",
            "\u001b[2K   \u001b[90m━━━━━━━━━━━━━━━━━━━━━━━━━━━━━━━━━━━━━━━━\u001b[0m \u001b[32m46.0/46.0 kB\u001b[0m \u001b[31m3.4 MB/s\u001b[0m eta \u001b[36m0:00:00\u001b[0m\n",
            "\u001b[2K   \u001b[90m━━━━━━━━━━━━━━━━━━━━━━━━━━━━━━━━━━━━━━━━\u001b[0m \u001b[32m86.8/86.8 kB\u001b[0m \u001b[31m7.3 MB/s\u001b[0m eta \u001b[36m0:00:00\u001b[0m\n",
            "\u001b[?25h  Building wheel for pypika (pyproject.toml) ... \u001b[?25l\u001b[?25hdone\n"
          ]
        }
      ]
    },
    {
      "cell_type": "code",
      "execution_count": 4,
      "metadata": {
        "id": "5VXtU_qAXZNT"
      },
      "outputs": [],
      "source": [
        "import os\n",
        "import glob\n",
        "import gradio as gr\n",
        "from google.colab import userdata"
      ]
    },
    {
      "cell_type": "code",
      "source": [
        "# imports for langchain\n",
        "\n",
        "from langchain.document_loaders import DirectoryLoader, TextLoader\n",
        "from langchain.text_splitter import CharacterTextSplitter\n",
        "from langchain.schema import Document\n",
        "from langchain_openai import OpenAIEmbeddings, ChatOpenAI\n",
        "#!pip install --upgrade --quiet langchain-chroma chromadb opentelemetry-api\n",
        "from langchain_chroma import Chroma\n",
        "import numpy as np\n",
        "from sklearn.manifold import TSNE\n",
        "import plotly.graph_objects as go\n",
        "from langchain.memory import ConversationBufferMemory\n",
        "from langchain.chains import ConversationalRetrievalChain"
      ],
      "metadata": {
        "id": "_HNV_pFOXxCT"
      },
      "execution_count": 26,
      "outputs": []
    },
    {
      "cell_type": "code",
      "source": [
        "MODEL = \"gpt-4o-mini\"\n",
        "db_name = \"vector_db\""
      ],
      "metadata": {
        "id": "BlEVF4qmfxtK"
      },
      "execution_count": 6,
      "outputs": []
    },
    {
      "cell_type": "code",
      "source": [
        "openai_api_key = userdata.get('OPENAI_API_KEY')\n",
        "os.environ[\"OPENAI_API_KEY\"] = openai_api_key"
      ],
      "metadata": {
        "id": "bVVZb9lEpwjU"
      },
      "execution_count": 7,
      "outputs": []
    },
    {
      "cell_type": "code",
      "source": [
        "from google.colab import drive\n",
        "drive.mount('/content/drive')"
      ],
      "metadata": {
        "colab": {
          "base_uri": "https://localhost:8080/"
        },
        "id": "zcVmPjLngIQB",
        "outputId": "bf416d14-4fed-462c-dacb-1b9fe01d031a"
      },
      "execution_count": 8,
      "outputs": [
        {
          "output_type": "stream",
          "name": "stdout",
          "text": [
            "Mounted at /content/drive\n"
          ]
        }
      ]
    },
    {
      "cell_type": "code",
      "source": [
        "folder_path = \"/content/drive/My Drive/Colab Notebooks/knowledge-base/*\"\n",
        "folders = glob.glob(folder_path)"
      ],
      "metadata": {
        "id": "-OMUy8Z1gh29"
      },
      "execution_count": 9,
      "outputs": []
    },
    {
      "cell_type": "code",
      "source": [
        "db_path = f\"/content/drive/My Drive/Colab Notebooks/{db_name}\""
      ],
      "metadata": {
        "id": "OJMw0Vv2hJv2"
      },
      "execution_count": 10,
      "outputs": []
    },
    {
      "cell_type": "code",
      "source": [
        "db_path"
      ],
      "metadata": {
        "colab": {
          "base_uri": "https://localhost:8080/",
          "height": 35
        },
        "id": "tP10DcmGqBAL",
        "outputId": "e85c8203-9e06-4a98-cc51-7d121917bd54"
      },
      "execution_count": 11,
      "outputs": [
        {
          "output_type": "execute_result",
          "data": {
            "text/plain": [
              "'/content/drive/My Drive/Colab Notebooks/vector_db'"
            ],
            "application/vnd.google.colaboratory.intrinsic+json": {
              "type": "string"
            }
          },
          "metadata": {},
          "execution_count": 11
        }
      ]
    },
    {
      "cell_type": "code",
      "source": [
        "documents = []\n",
        "for folder in folders:\n",
        "    doc_type = os.path.basename(folder)\n",
        "    loader = DirectoryLoader(folder, glob=\"**/*.md\", loader_cls=TextLoader)\n",
        "    folder_docs = loader.load()\n",
        "    for doc in folder_docs:\n",
        "        doc.metadata[\"doc_type\"] = doc_type\n",
        "        documents.append(doc)"
      ],
      "metadata": {
        "id": "h9lLc9nwhL9L"
      },
      "execution_count": 12,
      "outputs": []
    },
    {
      "cell_type": "code",
      "source": [
        "len(documents)"
      ],
      "metadata": {
        "id": "w4156-pMhi-t",
        "colab": {
          "base_uri": "https://localhost:8080/"
        },
        "outputId": "a45c1a76-6baa-4647-ca86-aa9681974880"
      },
      "execution_count": 13,
      "outputs": [
        {
          "output_type": "execute_result",
          "data": {
            "text/plain": [
              "31"
            ]
          },
          "metadata": {},
          "execution_count": 13
        }
      ]
    },
    {
      "cell_type": "code",
      "source": [
        "text_splitter = CharacterTextSplitter(chunk_size=1000, chunk_overlap=200)\n",
        "chunks = text_splitter.split_documents(documents)"
      ],
      "metadata": {
        "id": "JdE8KY4hjCS-",
        "colab": {
          "base_uri": "https://localhost:8080/"
        },
        "outputId": "47295ebb-91b3-4d8b-b88e-07d408ddf446"
      },
      "execution_count": 14,
      "outputs": [
        {
          "output_type": "stream",
          "name": "stderr",
          "text": [
            "WARNING:langchain_text_splitters.base:Created a chunk of size 1088, which is longer than the specified 1000\n"
          ]
        }
      ]
    },
    {
      "cell_type": "code",
      "source": [
        "len(chunks)"
      ],
      "metadata": {
        "id": "T5746EAjjFos",
        "colab": {
          "base_uri": "https://localhost:8080/"
        },
        "outputId": "9e1c3f04-d81d-40f3-a5d3-8bd6a85143d8"
      },
      "execution_count": 15,
      "outputs": [
        {
          "output_type": "execute_result",
          "data": {
            "text/plain": [
              "123"
            ]
          },
          "metadata": {},
          "execution_count": 15
        }
      ]
    },
    {
      "cell_type": "code",
      "source": [
        "doc_types = set(chunk.metadata['doc_type'] for chunk in chunks)\n",
        "print(f\"Document types found: {','.join(doc_types)}\")"
      ],
      "metadata": {
        "colab": {
          "base_uri": "https://localhost:8080/"
        },
        "id": "0ix-qqXujJL_",
        "outputId": "5530cf3c-14c5-44e4-8926-da7667c3a8bd"
      },
      "execution_count": 16,
      "outputs": [
        {
          "output_type": "stream",
          "name": "stdout",
          "text": [
            "Document types found: employees,products,contracts,company\n"
          ]
        }
      ]
    },
    {
      "cell_type": "code",
      "source": [
        "for chunk in chunks:\n",
        "    if 'Smith' in chunk.page_content:\n",
        "        print(chunk.metadata)\n",
        "        print('---------------')"
      ],
      "metadata": {
        "id": "OIB_Xtr7jMs0",
        "colab": {
          "base_uri": "https://localhost:8080/"
        },
        "outputId": "9ec8df48-f9c4-4288-f950-61a81fa34ff5"
      },
      "execution_count": 17,
      "outputs": [
        {
          "output_type": "stream",
          "name": "stdout",
          "text": [
            "{'source': '/content/drive/My Drive/Colab Notebooks/knowledge-base/contracts/Contract with Velocity Auto Solutions for Carllm.md', 'doc_type': 'contracts'}\n",
            "---------------\n",
            "{'source': '/content/drive/My Drive/Colab Notebooks/knowledge-base/contracts/Contract with EverGuard Insurance for Rellm.md', 'doc_type': 'contracts'}\n",
            "---------------\n",
            "{'source': '/content/drive/My Drive/Colab Notebooks/knowledge-base/contracts/Contract with EverGuard Insurance for Rellm.md', 'doc_type': 'contracts'}\n",
            "---------------\n",
            "{'source': '/content/drive/My Drive/Colab Notebooks/knowledge-base/contracts/Contract with TechDrive Insurance for Carllm.md', 'doc_type': 'contracts'}\n",
            "---------------\n"
          ]
        }
      ]
    },
    {
      "cell_type": "markdown",
      "source": [
        "=======Start Vector Section=========="
      ],
      "metadata": {
        "id": "5_5X_3flqmxH"
      }
    },
    {
      "cell_type": "code",
      "source": [
        "embeddings = OpenAIEmbeddings(api_key=openai_api_key)"
      ],
      "metadata": {
        "id": "2FLvDG-4jYBw"
      },
      "execution_count": 18,
      "outputs": []
    },
    {
      "cell_type": "code",
      "source": [
        "# Check if a Chroma Datastore already exists - if so, delete the collection to start from scratch\n",
        "\n",
        "if os.path.exists(db_path):\n",
        "    Chroma(persist_directory=db_path, embedding_function=embeddings).delete_collection()"
      ],
      "metadata": {
        "id": "vwE8pyX4q3MX"
      },
      "execution_count": 19,
      "outputs": []
    },
    {
      "cell_type": "code",
      "source": [
        "# Create our Chroma vectorstore!\n",
        "\n",
        "vectorstore = Chroma.from_documents(documents=chunks, embedding=embeddings, persist_directory=db_path)\n",
        "print(f\"Vectorstore created with {vectorstore._collection.count()} documents\")"
      ],
      "metadata": {
        "colab": {
          "base_uri": "https://localhost:8080/"
        },
        "id": "5loTvxZZq8sZ",
        "outputId": "d4ebfedb-df55-49f1-f43e-0fc6aed31abf"
      },
      "execution_count": 20,
      "outputs": [
        {
          "output_type": "stream",
          "name": "stdout",
          "text": [
            "Vectorstore created with 123 documents\n"
          ]
        }
      ]
    },
    {
      "cell_type": "code",
      "source": [
        "# Get one vector and find how many dimensions it has\n",
        "\n",
        "collection = vectorstore._collection\n",
        "sample_embedding = collection.get(limit=1, include=[\"embeddings\"])[\"embeddings\"][0]\n",
        "dimensions = len(sample_embedding)\n",
        "print(f\"The vectors have {dimensions:,} dimensions\")"
      ],
      "metadata": {
        "colab": {
          "base_uri": "https://localhost:8080/"
        },
        "id": "dRTPeRxIryxJ",
        "outputId": "721a9201-115e-4b1f-89cd-98d92fdc24a2"
      },
      "execution_count": 21,
      "outputs": [
        {
          "output_type": "stream",
          "name": "stdout",
          "text": [
            "The vectors have 1,536 dimensions\n"
          ]
        }
      ]
    },
    {
      "cell_type": "markdown",
      "source": [
        "#Visualizing the Vector Store"
      ],
      "metadata": {
        "id": "qMj_E1PhspGD"
      }
    },
    {
      "cell_type": "code",
      "source": [
        "result = collection.get(include=['embeddings', 'documents', 'metadatas'])\n",
        "vectors = np.array(result['embeddings'])\n",
        "documents = result['documents']\n",
        "doc_types = [metadata['doc_type'] for metadata in result['metadatas']]\n",
        "colors = [['blue', 'green', 'red', 'orange'][['products', 'employees', 'contracts', 'company'].index(t)] for t in doc_types]"
      ],
      "metadata": {
        "id": "25BZYxMosmC7"
      },
      "execution_count": 22,
      "outputs": []
    },
    {
      "cell_type": "code",
      "source": [
        "# We humans find it easier to visalize things in 2D!\n",
        "# Reduce the dimensionality of the vectors to 2D using t-SNE\n",
        "# (t-distributed stochastic neighbor embedding)\n",
        "\n",
        "tsne = TSNE(n_components=2, random_state=42)\n",
        "reduced_vectors = tsne.fit_transform(vectors)\n",
        "\n",
        "# Create the 2D scatter plot\n",
        "fig = go.Figure(data=[go.Scatter(\n",
        "    x=reduced_vectors[:, 0],\n",
        "    y=reduced_vectors[:, 1],\n",
        "    mode='markers',\n",
        "    marker=dict(size=5, color=colors, opacity=0.8),\n",
        "    text=[f\"Type: {t}<br>Text: {d[:100]}...\" for t, d in zip(doc_types, documents)],\n",
        "    hoverinfo='text'\n",
        ")])\n",
        "\n",
        "fig.update_layout(\n",
        "    title='2D Chroma Vector Store Visualization',\n",
        "    scene=dict(xaxis_title='x',yaxis_title='y'),\n",
        "    width=800,\n",
        "    height=600,\n",
        "    margin=dict(r=20, b=10, l=10, t=40)\n",
        ")\n",
        "\n",
        "fig.show()"
      ],
      "metadata": {
        "colab": {
          "base_uri": "https://localhost:8080/",
          "height": 617
        },
        "id": "TmX2_Nczs82t",
        "outputId": "69dbe55b-0bd3-4f3e-e13f-a2bc2f3e16bf"
      },
      "execution_count": 23,
      "outputs": [
        {
          "output_type": "display_data",
          "data": {
            "text/html": [
              "<html>\n",
              "<head><meta charset=\"utf-8\" /></head>\n",
              "<body>\n",
              "    <div>            <script src=\"https://cdnjs.cloudflare.com/ajax/libs/mathjax/2.7.5/MathJax.js?config=TeX-AMS-MML_SVG\"></script><script type=\"text/javascript\">if (window.MathJax && window.MathJax.Hub && window.MathJax.Hub.Config) {window.MathJax.Hub.Config({SVG: {font: \"STIX-Web\"}});}</script>                <script type=\"text/javascript\">window.PlotlyConfig = {MathJaxConfig: 'local'};</script>\n",
              "        <script charset=\"utf-8\" src=\"https://cdn.plot.ly/plotly-2.35.2.min.js\"></script>                <div id=\"b676f43f-95af-4947-b2c6-c6245fe96386\" class=\"plotly-graph-div\" style=\"height:600px; width:800px;\"></div>            <script type=\"text/javascript\">                                    window.PLOTLYENV=window.PLOTLYENV || {};                                    if (document.getElementById(\"b676f43f-95af-4947-b2c6-c6245fe96386\")) {                    Plotly.newPlot(                        \"b676f43f-95af-4947-b2c6-c6245fe96386\",                        [{\"hoverinfo\":\"text\",\"marker\":{\"color\":[\"green\",\"green\",\"green\",\"green\",\"green\",\"green\",\"green\",\"green\",\"green\",\"green\",\"green\",\"green\",\"green\",\"green\",\"green\",\"green\",\"green\",\"green\",\"green\",\"green\",\"green\",\"green\",\"green\",\"green\",\"green\",\"green\",\"green\",\"green\",\"green\",\"green\",\"green\",\"green\",\"green\",\"green\",\"green\",\"green\",\"green\",\"green\",\"green\",\"green\",\"green\",\"green\",\"green\",\"green\",\"green\",\"green\",\"green\",\"orange\",\"orange\",\"orange\",\"blue\",\"blue\",\"blue\",\"blue\",\"blue\",\"blue\",\"blue\",\"blue\",\"blue\",\"blue\",\"blue\",\"blue\",\"blue\",\"blue\",\"blue\",\"blue\",\"blue\",\"blue\",\"blue\",\"blue\",\"blue\",\"red\",\"red\",\"red\",\"red\",\"red\",\"red\",\"red\",\"red\",\"red\",\"red\",\"red\",\"red\",\"red\",\"red\",\"red\",\"red\",\"red\",\"red\",\"red\",\"red\",\"red\",\"red\",\"red\",\"red\",\"red\",\"red\",\"red\",\"red\",\"red\",\"red\",\"red\",\"red\",\"red\",\"red\",\"red\",\"red\",\"red\",\"red\",\"red\",\"red\",\"red\",\"red\",\"red\",\"red\",\"red\",\"red\",\"red\",\"red\",\"red\",\"red\",\"red\",\"red\"],\"opacity\":0.8,\"size\":5},\"mode\":\"markers\",\"text\":[\"Type: employees\\u003cbr\\u003eText: # HR Record\\n\\n# Emily Carter\\n\\n## Summary\\n- **Date of Birth:** August 12, 1990  \\n- **Job Title:** Acco...\",\"Type: employees\\u003cbr\\u003eText: - **2017-2019:** Marketing Intern  \\n  - Assisted with market research and campaign development for s...\",\"Type: employees\\u003cbr\\u003eText: ## Compensation History\\n| Year | Base Salary | Bonus         | Total Compensation |\\n|------|--------...\",\"Type: employees\\u003cbr\\u003eText: Emily Carter exemplifies the kind of talent that drives Insurellm's success and is an invaluable ass...\",\"Type: employees\\u003cbr\\u003eText: # HR Record\\n\\n# Emily Tran\\n\\n## Summary\\n- **Date of Birth:** March 18, 1991  \\n- **Job Title:** Digital...\",\"Type: employees\\u003cbr\\u003eText: - **January 2017 - May 2018**: Marketing Intern  \\n  - Supported the Marketing team by collaborating ...\",\"Type: employees\\u003cbr\\u003eText: - **2021**:  \\n  - Performance Rating: Meets Expectations  \\n  - Key Achievements: Contributed to the ...\",\"Type: employees\\u003cbr\\u003eText: - **Professional Development Goals**:  \\n  - Emily Tran aims to become a Marketing Manager within the...\",\"Type: employees\\u003cbr\\u003eText: # HR Record\\n\\n# Maxine Thompson\\n\\n## Summary\\n- **Date of Birth:** January 15, 1991  \\n- **Job Title:** ...\",\"Type: employees\\u003cbr\\u003eText: ## Insurellm Career Progression\\n- **January 2017 - October 2018**: **Junior Data Engineer**  \\n  * Ma...\",\"Type: employees\\u003cbr\\u003eText: ## Annual Performance History\\n- **2017**: *Meets Expectations*  \\n  Maxine showed potential in her ro...\",\"Type: employees\\u003cbr\\u003eText: - **2021**: *Exceeds Expectations*  \\n  Maxine spearheaded the transition to a new data warehousing s...\",\"Type: employees\\u003cbr\\u003eText: ## Compensation History\\n- **2017**: $70,000 (Junior Data Engineer)  \\n- **2018**: $75,000 (Junior Dat...\",\"Type: employees\\u003cbr\\u003eText: # HR Record\\n\\n# Alex Chen\\n\\n## Summary\\n- **Date of Birth:** March 15, 1990  \\n- **Job Title:** Backend ...\",\"Type: employees\\u003cbr\\u003eText: ## Annual Performance History\\n- **2020:**  \\n  - Completed onboarding successfully.  \\n  - Met expecta...\",\"Type: employees\\u003cbr\\u003eText: ## Compensation History\\n- **2020:** Base Salary: $80,000  \\n- **2021:** Base Salary Increase to $90,0...\",\"Type: employees\\u003cbr\\u003eText: Alex Chen continues to be a vital asset at Insurellm, contributing significantly to innovative backe...\",\"Type: employees\\u003cbr\\u003eText: # HR Record\\n\\n# Alex Thomson\\n\\n## Summary\\n- **Date of Birth:** March 15, 1995  \\n- **Job Title:** Sales...\",\"Type: employees\\u003cbr\\u003eText: ## Annual Performance History  \\n- **2022** - Rated as \\\"Exceeds Expectations.\\\" Alex Thomson achieved ...\",\"Type: employees\\u003cbr\\u003eText: ## Other HR Notes\\n- Alex Thomson is an active member of the Diversity and Inclusion committee at Ins...\",\"Type: employees\\u003cbr\\u003eText: # HR Record\\n\\n# Jordan K. Bishop\\n\\n## Summary\\n- **Date of Birth:** March 15, 1990\\n- **Job Title:** Fro...\",\"Type: employees\\u003cbr\\u003eText: ## Annual Performance History\\n- **2019:** Exceeds Expectations - Continuously delivered high-quality...\",\"Type: employees\\u003cbr\\u003eText: ## Compensation History\\n- **June 2018:** Starting Salary - $85,000\\n- **June 2019:** Salary Increase ...\",\"Type: employees\\u003cbr\\u003eText: ## Other HR Notes\\n- Jordan K. Bishop has been an integral part of club initiatives, including the In...\",\"Type: employees\\u003cbr\\u003eText: # HR Record\\n\\n# Jordan Blake\\n\\n## Summary\\n- **Date of Birth:** March 15, 1993  \\n- **Job Title:** Sales...\",\"Type: employees\\u003cbr\\u003eText: ## Annual Performance History\\n- **2021:** First year at Insurellm; achieved 90% of monthly targets. ...\",\"Type: employees\\u003cbr\\u003eText: ## Other HR Notes\\n- Jordan has shown an interest in continuing education, actively participating in ...\",\"Type: employees\\u003cbr\\u003eText: # Samantha Greene\\n\\n## Summary\\n- **Date of Birth:** October 14, 1990\\n- **Job Title:** HR Generalist\\n-...\",\"Type: employees\\u003cbr\\u003eText: ## Annual Performance History\\n- **2020:** Exceeds Expectations  \\n  Samantha Greene demonstrated exce...\",\"Type: employees\\u003cbr\\u003eText: ## Compensation History\\n- **2020:** Base Salary - $55,000  \\n  The entry-level salary matched industr...\",\"Type: employees\\u003cbr\\u003eText: - **2023:** Base Salary - $70,000  \\n  Recognized for substantial improvement in employee relations m...\",\"Type: employees\\u003cbr\\u003eText: # Avery Lancaster\\n\\n## Summary\\n- **Date of Birth**: March 15, 1985  \\n- **Job Title**: Co-Founder & Ch...\",\"Type: employees\\u003cbr\\u003eText: - **2010 - 2013**: Business Analyst at Edge Analytics  \\n  Prior to joining Innovate, Avery worked as...\",\"Type: employees\\u003cbr\\u003eText: - **2018**: **Exceeds Expectations**  \\n  Under Avery’s pivoted vision, Insurellm launched two new su...\",\"Type: employees\\u003cbr\\u003eText: - **2022**: **Satisfactory**  \\n  Avery focused on rebuilding team dynamics and addressing employee c...\",\"Type: employees\\u003cbr\\u003eText: ## Compensation History\\n- **2015**: $150,000 base salary + Significant equity stake  \\n- **2016**: $1...\",\"Type: employees\\u003cbr\\u003eText: ## Other HR Notes\\n- **Professional Development**: Avery has actively participated in leadership trai...\",\"Type: employees\\u003cbr\\u003eText: # HR Record\\n\\n# Alex Harper\\n\\n## Summary\\n- **Date of Birth**: March 15, 1993  \\n- **Job Title**: Sales ...\",\"Type: employees\\u003cbr\\u003eText: ## Annual Performance History  \\n- **2021**:  \\n  - **Performance Rating**: 4.5\\u002f5  \\n  - **Key Achievem...\",\"Type: employees\\u003cbr\\u003eText: - **2022**:  \\n  - **Base Salary**: $65,000 (Promotion to Senior SDR)  \\n  - **Bonus**: $13,000 (20% o...\",\"Type: employees\\u003cbr\\u003eText: # HR Record\\n\\n# Samuel Trenton\\n\\n## Summary\\n- **Date of Birth:** April 12, 1989  \\n- **Job Title:** Sen...\",\"Type: employees\\u003cbr\\u003eText: ## Annual Performance History\\n- **2023:** Rating: 4.5\\u002f5  \\n  *Samuel exceeded expectations, successfu...\",\"Type: employees\\u003cbr\\u003eText: ## Compensation History\\n- **2023:** Base Salary: $115,000 + Bonus: $15,000  \\n  *Annual bonus based o...\",\"Type: employees\\u003cbr\\u003eText: - **Engagement in Company Culture:** Regularly participates in team-building events and contributes ...\",\"Type: employees\\u003cbr\\u003eText: # HR Record\\n\\n# Oliver Spencer\\n\\n## Summary\\n- **Date of Birth**: May 14, 1990  \\n- **Job Title**: Backe...\",\"Type: employees\\u003cbr\\u003eText: ## Annual Performance History\\n- **2018**: **3\\u002f5** - Adaptable team player but still learning to take...\",\"Type: employees\\u003cbr\\u003eText: ## Compensation History\\n- **March 2018**: Initial salary of $80,000.\\n- **July 2019**: Salary increas...\",\"Type: company\\u003cbr\\u003eText: # About Insurellm\\n\\nInsurellm was founded by Avery Lancaster in 2015 as an insurance tech startup des...\",\"Type: company\\u003cbr\\u003eText: # Careers at Insurellm\\n\\nInsurellm is hiring! We are looking for talented software engineers, data sc...\",\"Type: company\\u003cbr\\u003eText: # Overview of Insurellm\\n\\nInsurellm is an innovative insurance tech firm with 200 employees across th...\",\"Type: products\\u003cbr\\u003eText: # Product Summary\\n\\n# Homellm\\n\\n## Summary\\nHomellm is an innovative home insurance product developed b...\",\"Type: products\\u003cbr\\u003eText: ### 2. Dynamic Pricing Model\\nWith Homellm's innovative dynamic pricing model, insurance providers ca...\",\"Type: products\\u003cbr\\u003eText: ### 5. Multi-Channel Integration\\nHomellm seamlessly integrates into existing insurance platforms, pr...\",\"Type: products\\u003cbr\\u003eText: - **Basic Tier:** Starting at $5,000\\u002fmonth for small insurers with basic integration features.\\n- **S...\",\"Type: products\\u003cbr\\u003eText: All tiers include a comprehensive training program and ongoing updates to ensure optimal performance...\",\"Type: products\\u003cbr\\u003eText: With Homellm, Insurellm is committed to transforming the landscape of home insurance, ensuring both ...\",\"Type: products\\u003cbr\\u003eText: # Product Summary\\n\\n# Carllm\\n\\n## Summary\\n\\nCarllm is an innovative auto insurance product developed by...\",\"Type: products\\u003cbr\\u003eText: - **Instant Quoting**: With Carllm, insurance companies can offer near-instant quotes to customers, ...\",\"Type: products\\u003cbr\\u003eText: - **Mobile Integration**: Carllm is designed to work seamlessly with mobile applications, providing ...\",\"Type: products\\u003cbr\\u003eText: - **Professional Tier**: $2,500\\u002fmonth\\n  - For medium-sized companies.\\n  - All Basic Tier features pl...\",\"Type: products\\u003cbr\\u003eText: ### Q2 2025: Customer Experience Improvements\\n- Launch of a new **mobile app** for end-users.\\n- Intr...\",\"Type: products\\u003cbr\\u003eText: # Product Summary\\n\\n# Markellm\\n\\n## Summary\\n\\nMarkellm is an innovative two-sided marketplace designed ...\",\"Type: products\\u003cbr\\u003eText: - **User-Friendly Interface**: Designed with user experience in mind, Markellm features an intuitive...\",\"Type: products\\u003cbr\\u003eText: - **Customer Support**: Our dedicated support team is always available to assist both consumers and ...\",\"Type: products\\u003cbr\\u003eText: ### For Insurance Companies:\\n- **Basic Listing Fee**: $199\\u002fmonth for a featured listing on the platf...\",\"Type: products\\u003cbr\\u003eText: ### Q3 2025\\n- Initiate a comprehensive marketing campaign targeting both consumers and insurers to i...\",\"Type: products\\u003cbr\\u003eText: # Product Summary\\n\\n# Rellm: AI-Powered Enterprise Reinsurance Solution\\n\\n## Summary\\n\\nRellm is an inno...\",\"Type: products\\u003cbr\\u003eText: ### Seamless Integrations\\nRellm's architecture is designed for effortless integration with existing ...\",\"Type: products\\u003cbr\\u003eText: ### Regulatory Compliance Tools\\nRellm includes built-in compliance tracking features to help organiz...\",\"Type: products\\u003cbr\\u003eText: Join the growing number of organizations leveraging Rellm to enhance their reinsurance processes whi...\",\"Type: products\\u003cbr\\u003eText: Experience the future of reinsurance with Rellm, where innovation meets reliability. Let Insurellm h...\",\"Type: contracts\\u003cbr\\u003eText: # Contract with Pinnacle Insurance Co. for Homellm\\n\\n## Terms\\nThis contract (\\\"Contract\\\") is entered i...\",\"Type: contracts\\u003cbr\\u003eText: ## Renewal\\n1. **Renewal Terms**: At the end of the initial term, this Contract shall automatically r...\",\"Type: contracts\\u003cbr\\u003eText: ## Features\\n1. **AI-Powered Risk Assessment**: Utilized for tailored underwriting decisions specific...\",\"Type: contracts\\u003cbr\\u003eText: ## Support\\n1. **Technical Support**: Insurellm shall provide 24\\u002f7 technical support via an email and...\",\"Type: contracts\\u003cbr\\u003eText: # Contract with Stellar Insurance Co. for Rellm\\n\\n## Terms\\nThis contract is made between **Insurellm*...\",\"Type: contracts\\u003cbr\\u003eText: ### Termination\\nEither party may terminate this agreement with a **30-day written notice**. In the e...\",\"Type: contracts\\u003cbr\\u003eText: ## Features\\nStellar Insurance Co. will receive access to the following features of the Rellm product...\",\"Type: contracts\\u003cbr\\u003eText: ## Support\\nInsurellm provides Stellar Insurance Co. with the following support services:\\n\\n- **24\\u002f7 T...\",\"Type: contracts\\u003cbr\\u003eText: # Contract with BrightWay Solutions for Markellm\\n\\n**Contract Date:** October 5, 2023  \\n**Contract ID...\",\"Type: contracts\\u003cbr\\u003eText: 3. **Service Level Agreement (SLA):**  \\n   Insurellm commits to a 99.9% uptime for the platform with...\",\"Type: contracts\\u003cbr\\u003eText: 2. **Real-Time Quote Availability:**  \\n   Consumers sourced via BrightWay Solutions will receive rea...\",\"Type: contracts\\u003cbr\\u003eText: 3. **Training and Onboarding:**  \\n   Insurellm agrees to provide one free training session on how to...\",\"Type: contracts\\u003cbr\\u003eText: # Contract with GreenField Holdings for Markellm\\n\\n**Effective Date:** November 15, 2023  \\n**Contract...\",\"Type: contracts\\u003cbr\\u003eText: ## Renewal\\n1. **Automatic Renewal**: This contract will automatically renew for sequential one-year ...\",\"Type: contracts\\u003cbr\\u003eText: ## Features\\n1. **AI-Powered Matching**: Access to advanced algorithms that connect GreenField Holdin...\",\"Type: contracts\\u003cbr\\u003eText: ## Support\\n1. **Customer Support Access**: The Client will have access to dedicated support through ...\",\"Type: contracts\\u003cbr\\u003eText: **Signatures:**  \\n_________________________                           _________________________  \\n**...\",\"Type: contracts\\u003cbr\\u003eText: # Contract with GreenValley Insurance for Homellm\\n\\n**Contract Date:** October 6, 2023  \\n**Contract N...\",\"Type: contracts\\u003cbr\\u003eText: 4. **Confidentiality:** Both parties agree to maintain the confidentiality of proprietary informatio...\",\"Type: contracts\\u003cbr\\u003eText: 1. **AI-Powered Risk Assessment:** Access to advanced AI algorithms for real-time risk evaluations.\\n...\",\"Type: contracts\\u003cbr\\u003eText: 3. **Regular Updates:** Insurellm will offer ongoing updates and enhancements to the Homellm platfor...\",\"Type: contracts\\u003cbr\\u003eText: # Contract with Velocity Auto Solutions for Carllm\\n\\n**Contract Date:** October 1, 2023  \\n**Contract ...\",\"Type: contracts\\u003cbr\\u003eText: ## Renewal\\n\\n1. **Automatic Renewal**: This contract will automatically renew for successive 12-month...\",\"Type: contracts\\u003cbr\\u003eText: ## Support\\n\\n1. **Customer Support**: Velocity Auto Solutions will have access to Insurellm’s custome...\",\"Type: contracts\\u003cbr\\u003eText: # Contract with Greenstone Insurance for Homellm\\n\\n---\\n\\n## Terms\\n\\n1. **Parties**: This Contract (\\\"Agr...\",\"Type: contracts\\u003cbr\\u003eText: 4. **Payment Terms**: \\n   - The Customer shall pay an amount of $10,000 per month for the Standard T...\",\"Type: contracts\\u003cbr\\u003eText: ---\\n\\n## Features\\n\\n- **AI-Powered Risk Assessment**: Customer will have access to enhanced risk evalu...\",\"Type: contracts\\u003cbr\\u003eText: - **Customer Portal**: A dedicated portal will be provided, allowing the Customer's clients to manag...\",\"Type: contracts\\u003cbr\\u003eText: ______________________________  \\n[Name], [Title]  \\nDate: ______________________\\n\\n**For Greenstone In...\",\"Type: contracts\\u003cbr\\u003eText: # Contract with Belvedere Insurance for Markellm\\n\\n## Terms\\nThis Contract (\\\"Agreement\\\") is made and e...\",\"Type: contracts\\u003cbr\\u003eText: ## Renewal\\n1. **Renewal Terms**: This Agreement may be renewed for additional one-year terms upon mu...\",\"Type: contracts\\u003cbr\\u003eText: ## Features\\n1. **AI-Powered Matching**: Belvedere Insurance will benefit from Markellm's AI-powered ...\",\"Type: contracts\\u003cbr\\u003eText: ## Support\\n1. **Technical Support**: Technical support will be available from 9 AM to 7 PM EST, Mond...\",\"Type: contracts\\u003cbr\\u003eText: **Belvedere Insurance**  \\nSignature: ______________________  \\nName: [Authorized Signatory]  \\nTitle: ...\",\"Type: contracts\\u003cbr\\u003eText: # Contract with EverGuard Insurance for Rellm: AI-Powered Enterprise Reinsurance Solution\\n\\n**Contrac...\",\"Type: contracts\\u003cbr\\u003eText: 4. **Usage Rights**: EverGuard Insurance is granted a non-exclusive, non-transferable license to acc...\",\"Type: contracts\\u003cbr\\u003eText: 1. **Core Functionality**: Rellm provides EverGuard Insurance with advanced AI-driven analytics, sea...\",\"Type: contracts\\u003cbr\\u003eText: 1. **Customer Support**: Insurellm will provide EverGuard Insurance with 24\\u002f7 customer support, incl...\",\"Type: contracts\\u003cbr\\u003eText: ---\\n\\n**Signatures**  \\n**For Insurellm**: __________________________  \\n**Name**: John Smith  \\n**Title...\",\"Type: contracts\\u003cbr\\u003eText: # Contract with Apex Reinsurance for Rellm: AI-Powered Enterprise Reinsurance Solution\\n\\n## Terms\\n\\n1....\",\"Type: contracts\\u003cbr\\u003eText: ## Renewal\\n\\n1. **Automatic Renewal**: This Agreement will automatically renew for successive one-yea...\",\"Type: contracts\\u003cbr\\u003eText: 2. **Seamless Integrations**: The architecture of Rellm allows for easy integration with existing sy...\",\"Type: contracts\\u003cbr\\u003eText: 1. **Technical Support**: Provider shall offer dedicated technical support to the Client via phone, ...\",\"Type: contracts\\u003cbr\\u003eText: **Insurellm, Inc.**  \\n_____________________________  \\nAuthorized Signature   \\nDate: ________________...\",\"Type: contracts\\u003cbr\\u003eText: # Contract with TechDrive Insurance for Carllm\\n\\n**Contract Date:** October 1, 2024  \\n**Contract Dura...\",\"Type: contracts\\u003cbr\\u003eText: ## Renewal\\n\\n1. **Automatic Renewal**: This contract shall automatically renew for additional one-yea...\",\"Type: contracts\\u003cbr\\u003eText: ## Support\\n\\n1. **Customer Support**: Insurellm will provide 24\\u002f7 customer support to TechDrive Insur...\",\"Type: contracts\\u003cbr\\u003eText: **TechDrive Insurance Representative:**  \\nName: Sarah Johnson  \\nTitle: Operations Director  \\nDate: _...\",\"Type: contracts\\u003cbr\\u003eText: # Contract with Roadway Insurance Inc. for Carllm\\n\\n---\\n\\n## Terms\\n\\n1. **Agreement Effective Date**: T...\",\"Type: contracts\\u003cbr\\u003eText: ---\\n\\n## Renewal\\n\\n1. **Automatic Renewal**: This agreement will automatically renew for an additional...\",\"Type: contracts\\u003cbr\\u003eText: ---\\n\\n## Features\\n\\n1. **Access to Core Features**: Roadway Insurance Inc. will have access to all Pro...\",\"Type: contracts\\u003cbr\\u003eText: ---\\n\\n## Support\\n\\n1. **Technical Support**: Roadway Insurance Inc. will receive priority technical su...\"],\"x\":[5.9267526,3.4939704,6.2724752,3.7020323,5.145625,4.3266354,5.373844,4.6316123,4.33963,2.562854,1.4799063,1.5392516,5.3045177,5.651159,1.3372711,6.231816,3.186526,7.616737,3.6823404,8.2753315,6.3468733,0.90422034,6.1797447,7.1433134,6.9093823,5.6331034,7.6257195,7.583025,2.3544636,7.6256523,7.4401965,1.7097744,0.8374112,0.290502,0.1096215,6.7979817,1.6348253,7.294439,4.6858735,4.6892824,5.8774924,4.050783,5.2872157,2.243402,5.5419006,1.4499179,6.6486454,2.4609041,2.7669907,2.3918738,2.95144,3.5401077,3.4826813,1.5783197,2.1669059,2.9342134,-0.21489634,-0.25544772,-0.096987575,0.17167045,0.77332634,1.1072375,0.71989506,-0.10769141,-0.79140425,1.3282154,0.46744463,-0.12789495,-0.39065978,0.9958031,1.5355543,-4.8211465,-7.8831706,4.369531,-4.991541,-3.3996208,-3.4056966,-1.5185488,-2.8218186,-3.466725,-3.3777938,-2.1821086,-3.9771664,-3.2178798,-7.5703406,3.3442595,-1.5091418,-7.125221,-3.9768648,-3.6184213,3.3129816,-3.9131885,-7.6810193,-6.419133,-6.5738506,-4.2620397,-5.5359035,3.575661,-4.748635,-7.575567,-3.0016205,-8.090516,0.21523671,-5.21214,-7.019824,-2.77798,-1.9654387,-1.2637607,-3.12369,-5.3179927,-2.7033205,-1.7300506,-0.45800516,-4.4896264,-6.7110543,-7.958785,-6.720068,-7.213693,-7.944827,-8.374975,-7.6346884,-1.5395507,-6.5776234],\"y\":[-9.148681,-10.697472,-11.989485,-4.5822535,-9.387282,-9.83832,-11.539017,-9.731325,-7.69359,-9.173968,-10.668927,-9.609031,-14.548805,-7.298512,-12.024312,-13.030736,-4.513576,-8.29925,-12.863023,-8.025289,-6.668979,-11.618258,-14.53201,-6.111439,-8.042988,-12.625778,-6.5152054,-10.550202,-11.555155,-12.135913,-11.467356,-6.369294,-8.337764,-8.824682,-8.818492,-14.150416,-6.604378,-8.653569,-13.040679,-12.344937,-8.127444,-13.702279,-13.792918,-14.127749,-7.0477543,-12.201175,-13.132795,-1.0979936,-1.9567933,-0.76750445,2.3272686,3.445308,2.64062,4.384978,3.6289704,1.0058194,3.1142654,3.5348258,4.385496,4.517331,3.3149123,6.916777,7.0269084,6.999012,6.6545525,6.065496,0.98361224,-0.245943,0.6376754,2.092024,0.2747083,4.0739684,6.9354105,4.6474843,1.7221788,-1.0226083,-1.5002594,-0.5335936,-0.4980761,7.1938577,8.310946,8.176685,7.1885285,5.5214667,6.8463683,6.0544615,6.6905365,-1.8807137,3.9896343,3.6314526,4.799238,2.9142988,3.553982,4.263476,1.7848599,4.5017524,5.810672,4.064323,2.5597444,-1.8492243,6.257999,7.0960083,7.8754196,1.0153942,-0.75205564,1.1824628,0.97908354,0.34937465,0.29672474,-1.130953,2.015169,1.7030661,-0.62206346,0.77904654,-1.5297487,3.065762,4.163106,1.8249689,1.5168011,4.141251,5.5772195,4.4268074,2.6967468],\"type\":\"scatter\"}],                        {\"template\":{\"data\":{\"histogram2dcontour\":[{\"type\":\"histogram2dcontour\",\"colorbar\":{\"outlinewidth\":0,\"ticks\":\"\"},\"colorscale\":[[0.0,\"#0d0887\"],[0.1111111111111111,\"#46039f\"],[0.2222222222222222,\"#7201a8\"],[0.3333333333333333,\"#9c179e\"],[0.4444444444444444,\"#bd3786\"],[0.5555555555555556,\"#d8576b\"],[0.6666666666666666,\"#ed7953\"],[0.7777777777777778,\"#fb9f3a\"],[0.8888888888888888,\"#fdca26\"],[1.0,\"#f0f921\"]]}],\"choropleth\":[{\"type\":\"choropleth\",\"colorbar\":{\"outlinewidth\":0,\"ticks\":\"\"}}],\"histogram2d\":[{\"type\":\"histogram2d\",\"colorbar\":{\"outlinewidth\":0,\"ticks\":\"\"},\"colorscale\":[[0.0,\"#0d0887\"],[0.1111111111111111,\"#46039f\"],[0.2222222222222222,\"#7201a8\"],[0.3333333333333333,\"#9c179e\"],[0.4444444444444444,\"#bd3786\"],[0.5555555555555556,\"#d8576b\"],[0.6666666666666666,\"#ed7953\"],[0.7777777777777778,\"#fb9f3a\"],[0.8888888888888888,\"#fdca26\"],[1.0,\"#f0f921\"]]}],\"heatmap\":[{\"type\":\"heatmap\",\"colorbar\":{\"outlinewidth\":0,\"ticks\":\"\"},\"colorscale\":[[0.0,\"#0d0887\"],[0.1111111111111111,\"#46039f\"],[0.2222222222222222,\"#7201a8\"],[0.3333333333333333,\"#9c179e\"],[0.4444444444444444,\"#bd3786\"],[0.5555555555555556,\"#d8576b\"],[0.6666666666666666,\"#ed7953\"],[0.7777777777777778,\"#fb9f3a\"],[0.8888888888888888,\"#fdca26\"],[1.0,\"#f0f921\"]]}],\"heatmapgl\":[{\"type\":\"heatmapgl\",\"colorbar\":{\"outlinewidth\":0,\"ticks\":\"\"},\"colorscale\":[[0.0,\"#0d0887\"],[0.1111111111111111,\"#46039f\"],[0.2222222222222222,\"#7201a8\"],[0.3333333333333333,\"#9c179e\"],[0.4444444444444444,\"#bd3786\"],[0.5555555555555556,\"#d8576b\"],[0.6666666666666666,\"#ed7953\"],[0.7777777777777778,\"#fb9f3a\"],[0.8888888888888888,\"#fdca26\"],[1.0,\"#f0f921\"]]}],\"contourcarpet\":[{\"type\":\"contourcarpet\",\"colorbar\":{\"outlinewidth\":0,\"ticks\":\"\"}}],\"contour\":[{\"type\":\"contour\",\"colorbar\":{\"outlinewidth\":0,\"ticks\":\"\"},\"colorscale\":[[0.0,\"#0d0887\"],[0.1111111111111111,\"#46039f\"],[0.2222222222222222,\"#7201a8\"],[0.3333333333333333,\"#9c179e\"],[0.4444444444444444,\"#bd3786\"],[0.5555555555555556,\"#d8576b\"],[0.6666666666666666,\"#ed7953\"],[0.7777777777777778,\"#fb9f3a\"],[0.8888888888888888,\"#fdca26\"],[1.0,\"#f0f921\"]]}],\"surface\":[{\"type\":\"surface\",\"colorbar\":{\"outlinewidth\":0,\"ticks\":\"\"},\"colorscale\":[[0.0,\"#0d0887\"],[0.1111111111111111,\"#46039f\"],[0.2222222222222222,\"#7201a8\"],[0.3333333333333333,\"#9c179e\"],[0.4444444444444444,\"#bd3786\"],[0.5555555555555556,\"#d8576b\"],[0.6666666666666666,\"#ed7953\"],[0.7777777777777778,\"#fb9f3a\"],[0.8888888888888888,\"#fdca26\"],[1.0,\"#f0f921\"]]}],\"mesh3d\":[{\"type\":\"mesh3d\",\"colorbar\":{\"outlinewidth\":0,\"ticks\":\"\"}}],\"scatter\":[{\"fillpattern\":{\"fillmode\":\"overlay\",\"size\":10,\"solidity\":0.2},\"type\":\"scatter\"}],\"parcoords\":[{\"type\":\"parcoords\",\"line\":{\"colorbar\":{\"outlinewidth\":0,\"ticks\":\"\"}}}],\"scatterpolargl\":[{\"type\":\"scatterpolargl\",\"marker\":{\"colorbar\":{\"outlinewidth\":0,\"ticks\":\"\"}}}],\"bar\":[{\"error_x\":{\"color\":\"#2a3f5f\"},\"error_y\":{\"color\":\"#2a3f5f\"},\"marker\":{\"line\":{\"color\":\"#E5ECF6\",\"width\":0.5},\"pattern\":{\"fillmode\":\"overlay\",\"size\":10,\"solidity\":0.2}},\"type\":\"bar\"}],\"scattergeo\":[{\"type\":\"scattergeo\",\"marker\":{\"colorbar\":{\"outlinewidth\":0,\"ticks\":\"\"}}}],\"scatterpolar\":[{\"type\":\"scatterpolar\",\"marker\":{\"colorbar\":{\"outlinewidth\":0,\"ticks\":\"\"}}}],\"histogram\":[{\"marker\":{\"pattern\":{\"fillmode\":\"overlay\",\"size\":10,\"solidity\":0.2}},\"type\":\"histogram\"}],\"scattergl\":[{\"type\":\"scattergl\",\"marker\":{\"colorbar\":{\"outlinewidth\":0,\"ticks\":\"\"}}}],\"scatter3d\":[{\"type\":\"scatter3d\",\"line\":{\"colorbar\":{\"outlinewidth\":0,\"ticks\":\"\"}},\"marker\":{\"colorbar\":{\"outlinewidth\":0,\"ticks\":\"\"}}}],\"scattermapbox\":[{\"type\":\"scattermapbox\",\"marker\":{\"colorbar\":{\"outlinewidth\":0,\"ticks\":\"\"}}}],\"scatterternary\":[{\"type\":\"scatterternary\",\"marker\":{\"colorbar\":{\"outlinewidth\":0,\"ticks\":\"\"}}}],\"scattercarpet\":[{\"type\":\"scattercarpet\",\"marker\":{\"colorbar\":{\"outlinewidth\":0,\"ticks\":\"\"}}}],\"carpet\":[{\"aaxis\":{\"endlinecolor\":\"#2a3f5f\",\"gridcolor\":\"white\",\"linecolor\":\"white\",\"minorgridcolor\":\"white\",\"startlinecolor\":\"#2a3f5f\"},\"baxis\":{\"endlinecolor\":\"#2a3f5f\",\"gridcolor\":\"white\",\"linecolor\":\"white\",\"minorgridcolor\":\"white\",\"startlinecolor\":\"#2a3f5f\"},\"type\":\"carpet\"}],\"table\":[{\"cells\":{\"fill\":{\"color\":\"#EBF0F8\"},\"line\":{\"color\":\"white\"}},\"header\":{\"fill\":{\"color\":\"#C8D4E3\"},\"line\":{\"color\":\"white\"}},\"type\":\"table\"}],\"barpolar\":[{\"marker\":{\"line\":{\"color\":\"#E5ECF6\",\"width\":0.5},\"pattern\":{\"fillmode\":\"overlay\",\"size\":10,\"solidity\":0.2}},\"type\":\"barpolar\"}],\"pie\":[{\"automargin\":true,\"type\":\"pie\"}]},\"layout\":{\"autotypenumbers\":\"strict\",\"colorway\":[\"#636efa\",\"#EF553B\",\"#00cc96\",\"#ab63fa\",\"#FFA15A\",\"#19d3f3\",\"#FF6692\",\"#B6E880\",\"#FF97FF\",\"#FECB52\"],\"font\":{\"color\":\"#2a3f5f\"},\"hovermode\":\"closest\",\"hoverlabel\":{\"align\":\"left\"},\"paper_bgcolor\":\"white\",\"plot_bgcolor\":\"#E5ECF6\",\"polar\":{\"bgcolor\":\"#E5ECF6\",\"angularaxis\":{\"gridcolor\":\"white\",\"linecolor\":\"white\",\"ticks\":\"\"},\"radialaxis\":{\"gridcolor\":\"white\",\"linecolor\":\"white\",\"ticks\":\"\"}},\"ternary\":{\"bgcolor\":\"#E5ECF6\",\"aaxis\":{\"gridcolor\":\"white\",\"linecolor\":\"white\",\"ticks\":\"\"},\"baxis\":{\"gridcolor\":\"white\",\"linecolor\":\"white\",\"ticks\":\"\"},\"caxis\":{\"gridcolor\":\"white\",\"linecolor\":\"white\",\"ticks\":\"\"}},\"coloraxis\":{\"colorbar\":{\"outlinewidth\":0,\"ticks\":\"\"}},\"colorscale\":{\"sequential\":[[0.0,\"#0d0887\"],[0.1111111111111111,\"#46039f\"],[0.2222222222222222,\"#7201a8\"],[0.3333333333333333,\"#9c179e\"],[0.4444444444444444,\"#bd3786\"],[0.5555555555555556,\"#d8576b\"],[0.6666666666666666,\"#ed7953\"],[0.7777777777777778,\"#fb9f3a\"],[0.8888888888888888,\"#fdca26\"],[1.0,\"#f0f921\"]],\"sequentialminus\":[[0.0,\"#0d0887\"],[0.1111111111111111,\"#46039f\"],[0.2222222222222222,\"#7201a8\"],[0.3333333333333333,\"#9c179e\"],[0.4444444444444444,\"#bd3786\"],[0.5555555555555556,\"#d8576b\"],[0.6666666666666666,\"#ed7953\"],[0.7777777777777778,\"#fb9f3a\"],[0.8888888888888888,\"#fdca26\"],[1.0,\"#f0f921\"]],\"diverging\":[[0,\"#8e0152\"],[0.1,\"#c51b7d\"],[0.2,\"#de77ae\"],[0.3,\"#f1b6da\"],[0.4,\"#fde0ef\"],[0.5,\"#f7f7f7\"],[0.6,\"#e6f5d0\"],[0.7,\"#b8e186\"],[0.8,\"#7fbc41\"],[0.9,\"#4d9221\"],[1,\"#276419\"]]},\"xaxis\":{\"gridcolor\":\"white\",\"linecolor\":\"white\",\"ticks\":\"\",\"title\":{\"standoff\":15},\"zerolinecolor\":\"white\",\"automargin\":true,\"zerolinewidth\":2},\"yaxis\":{\"gridcolor\":\"white\",\"linecolor\":\"white\",\"ticks\":\"\",\"title\":{\"standoff\":15},\"zerolinecolor\":\"white\",\"automargin\":true,\"zerolinewidth\":2},\"scene\":{\"xaxis\":{\"backgroundcolor\":\"#E5ECF6\",\"gridcolor\":\"white\",\"linecolor\":\"white\",\"showbackground\":true,\"ticks\":\"\",\"zerolinecolor\":\"white\",\"gridwidth\":2},\"yaxis\":{\"backgroundcolor\":\"#E5ECF6\",\"gridcolor\":\"white\",\"linecolor\":\"white\",\"showbackground\":true,\"ticks\":\"\",\"zerolinecolor\":\"white\",\"gridwidth\":2},\"zaxis\":{\"backgroundcolor\":\"#E5ECF6\",\"gridcolor\":\"white\",\"linecolor\":\"white\",\"showbackground\":true,\"ticks\":\"\",\"zerolinecolor\":\"white\",\"gridwidth\":2}},\"shapedefaults\":{\"line\":{\"color\":\"#2a3f5f\"}},\"annotationdefaults\":{\"arrowcolor\":\"#2a3f5f\",\"arrowhead\":0,\"arrowwidth\":1},\"geo\":{\"bgcolor\":\"white\",\"landcolor\":\"#E5ECF6\",\"subunitcolor\":\"white\",\"showland\":true,\"showlakes\":true,\"lakecolor\":\"white\"},\"title\":{\"x\":0.05},\"mapbox\":{\"style\":\"light\"}}},\"margin\":{\"r\":20,\"b\":10,\"l\":10,\"t\":40},\"title\":{\"text\":\"2D Chroma Vector Store Visualization\"},\"scene\":{\"xaxis\":{\"title\":{\"text\":\"x\"}},\"yaxis\":{\"title\":{\"text\":\"y\"}}},\"width\":800,\"height\":600},                        {\"responsive\": true}                    ).then(function(){\n",
              "                            \n",
              "var gd = document.getElementById('b676f43f-95af-4947-b2c6-c6245fe96386');\n",
              "var x = new MutationObserver(function (mutations, observer) {{\n",
              "        var display = window.getComputedStyle(gd).display;\n",
              "        if (!display || display === 'none') {{\n",
              "            console.log([gd, 'removed!']);\n",
              "            Plotly.purge(gd);\n",
              "            observer.disconnect();\n",
              "        }}\n",
              "}});\n",
              "\n",
              "// Listen for the removal of the full notebook cells\n",
              "var notebookContainer = gd.closest('#notebook-container');\n",
              "if (notebookContainer) {{\n",
              "    x.observe(notebookContainer, {childList: true});\n",
              "}}\n",
              "\n",
              "// Listen for the clearing of the current output cell\n",
              "var outputEl = gd.closest('.output');\n",
              "if (outputEl) {{\n",
              "    x.observe(outputEl, {childList: true});\n",
              "}}\n",
              "\n",
              "                        })                };                            </script>        </div>\n",
              "</body>\n",
              "</html>"
            ]
          },
          "metadata": {}
        }
      ]
    },
    {
      "cell_type": "code",
      "source": [
        "# Let's try 3D!\n",
        "\n",
        "tsne = TSNE(n_components=3, random_state=42)\n",
        "reduced_vectors = tsne.fit_transform(vectors)\n",
        "\n",
        "# Create the 3D scatter plot\n",
        "fig = go.Figure(data=[go.Scatter3d(\n",
        "    x=reduced_vectors[:, 0],\n",
        "    y=reduced_vectors[:, 1],\n",
        "    z=reduced_vectors[:, 2],\n",
        "    mode='markers',\n",
        "    marker=dict(size=5, color=colors, opacity=0.8),\n",
        "    text=[f\"Type: {t}<br>Text: {d[:100]}...\" for t, d in zip(doc_types, documents)],\n",
        "    hoverinfo='text'\n",
        ")])\n",
        "\n",
        "fig.update_layout(\n",
        "    title='3D Chroma Vector Store Visualization',\n",
        "    scene=dict(xaxis_title='x', yaxis_title='y', zaxis_title='z'),\n",
        "    width=900,\n",
        "    height=700,\n",
        "    margin=dict(r=20, b=10, l=10, t=40)\n",
        ")\n",
        "\n",
        "fig.show()"
      ],
      "metadata": {
        "id": "UNw-f7B-s-Mc"
      },
      "execution_count": null,
      "outputs": []
    },
    {
      "cell_type": "markdown",
      "source": [
        "#Use LangChain to bring it all together"
      ],
      "metadata": {
        "id": "88tZ8WDcBiJ8"
      }
    },
    {
      "cell_type": "code",
      "source": [
        "llm = ChatOpenAI(temperature=0.7, model_name=MODEL, openai_api_key=openai_api_key)\n",
        "# set up the conversation memory for the chat\n",
        "memory = ConversationBufferMemory(memory_key='chat_history', return_messages=True)\n",
        "\n",
        "# the retriever is an abstraction over the VectorStore that will be used during RAG\n",
        "retriever = vectorstore.as_retriever()\n",
        "# putting it together: set up the conversation chain with the GPT 4o-mini LLM, the vector store and memory\n",
        "conversation_chain = ConversationalRetrievalChain.from_llm(llm=llm, retriever=retriever, memory=memory)"
      ],
      "metadata": {
        "id": "3RXuUsmBwtaO"
      },
      "execution_count": 29,
      "outputs": []
    },
    {
      "cell_type": "code",
      "source": [
        "query = \"Can you describe Insurellm in a few sentences\"\n",
        "result = conversation_chain.invoke({\"question\":query})\n",
        "print(result[\"answer\"])"
      ],
      "metadata": {
        "colab": {
          "base_uri": "https://localhost:8080/"
        },
        "id": "T3oAM7qzDBK6",
        "outputId": "2738b975-8f8d-4be6-877c-dc28668114a4"
      },
      "execution_count": 30,
      "outputs": [
        {
          "output_type": "stream",
          "name": "stdout",
          "text": [
            "Insurellm is an innovative insurance tech startup founded by Avery Lancaster in 2015, designed to disrupt the insurance industry with cutting-edge products. With 200 employees and 12 offices across the US, Insurellm offers four main products: Carllm for auto insurance, Homellm for home insurance, Rellm for the reinsurance sector, and Marketllm as a marketplace connecting consumers with insurance providers. The company has rapidly expanded and now serves over 300 clients worldwide, focusing on transforming the insurance landscape through technology.\n"
          ]
        }
      ]
    },
    {
      "cell_type": "code",
      "source": [
        "# set up a new conversation memory for the chat\n",
        "memory = ConversationBufferMemory(memory_key='chat_history', return_messages=True)\n",
        "\n",
        "# putting it together: set up the conversation chain with the GPT 4o-mini LLM, the vector store and memory\n",
        "conversation_chain = ConversationalRetrievalChain.from_llm(llm=llm, retriever=retriever, memory=memory)"
      ],
      "metadata": {
        "id": "u7C_FWNkDkbV"
      },
      "execution_count": 31,
      "outputs": []
    },
    {
      "cell_type": "code",
      "source": [
        "# Wrapping in a function - note that history isn't used, as the memory is in the conversation_chain\n",
        "\n",
        "def chat(message, history):\n",
        "    result = conversation_chain.invoke({\"question\": message})\n",
        "    return result[\"answer\"]"
      ],
      "metadata": {
        "id": "i0YDJJWJD3V9"
      },
      "execution_count": 32,
      "outputs": []
    },
    {
      "cell_type": "code",
      "source": [
        "view = gr.ChatInterface(chat, type=\"messages\").launch(share=True, debug=True)"
      ],
      "metadata": {
        "colab": {
          "base_uri": "https://localhost:8080/",
          "height": 646
        },
        "id": "9N3Xr4t2D7je",
        "outputId": "5737e4da-2eb9-4a61-b9a9-4e366f5e9906"
      },
      "execution_count": 33,
      "outputs": [
        {
          "output_type": "stream",
          "name": "stdout",
          "text": [
            "Colab notebook detected. This cell will run indefinitely so that you can see errors and logs. To turn off, set debug=False in launch().\n",
            "* Running on public URL: https://18906e5c5eb32fefcb.gradio.live\n",
            "\n",
            "This share link expires in 1 week. For free permanent hosting and GPU upgrades, run `gradio deploy` from the terminal in the working directory to deploy to Hugging Face Spaces (https://huggingface.co/spaces)\n"
          ]
        },
        {
          "output_type": "display_data",
          "data": {
            "text/plain": [
              "<IPython.core.display.HTML object>"
            ],
            "text/html": [
              "<div><iframe src=\"https://18906e5c5eb32fefcb.gradio.live\" width=\"100%\" height=\"500\" allow=\"autoplay; camera; microphone; clipboard-read; clipboard-write;\" frameborder=\"0\" allowfullscreen></iframe></div>"
            ]
          },
          "metadata": {}
        },
        {
          "output_type": "stream",
          "name": "stdout",
          "text": [
            "Keyboard interruption in main thread... closing server.\n",
            "Killing tunnel 127.0.0.1:7860 <> https://18906e5c5eb32fefcb.gradio.live\n"
          ]
        }
      ]
    },
    {
      "cell_type": "code",
      "source": [],
      "metadata": {
        "id": "Lc29AsygEF2T"
      },
      "execution_count": null,
      "outputs": []
    }
  ]
}